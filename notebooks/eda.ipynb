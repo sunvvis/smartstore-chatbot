{
 "cells": [
  {
   "cell_type": "markdown",
   "id": "cf5128ef",
   "metadata": {},
   "source": [
    "# FAQ 데이터 분석"
   ]
  },
  {
   "cell_type": "markdown",
   "id": "2fc10026",
   "metadata": {},
   "source": [
    "## 임포트 및 폰트 설정"
   ]
  },
  {
   "cell_type": "code",
   "execution_count": 1,
   "id": "73884dfa",
   "metadata": {},
   "outputs": [],
   "source": [
    "import pickle\n",
    "import pandas as pd\n",
    "from collections import Counter\n",
    "import re\n",
    "import matplotlib.pyplot as plt\n",
    "\n",
    "%matplotlib inline"
   ]
  },
  {
   "cell_type": "code",
   "execution_count": 2,
   "id": "0302c58a",
   "metadata": {},
   "outputs": [],
   "source": [
    "# 한글 폰트 설정\n",
    "plt.rcParams[\"font.family\"] = \"NanumGothic\"\n",
    "plt.rcParams[\"axes.unicode_minus\"] = False"
   ]
  },
  {
   "cell_type": "markdown",
   "id": "e7c9d3bf",
   "metadata": {},
   "source": [
    "## 데이터 로드"
   ]
  },
  {
   "cell_type": "code",
   "execution_count": 3,
   "id": "16062b11",
   "metadata": {},
   "outputs": [
    {
     "name": "stdout",
     "output_type": "stream",
     "text": [
      "총 FAQ 수: 2717\n"
     ]
    }
   ],
   "source": [
    "def load_faq_data(file_path=\"../data/final_result.pkl\"):\n",
    "    with open(file_path, \"rb\") as f:\n",
    "        data = pickle.load(f)\n",
    "    # dict를 리스트로 변환: [{'question': str, 'answer': str}]\n",
    "    faq_list = [{\"question\": k, \"answer\": v} for k, v in data.items()]\n",
    "    return faq_list\n",
    "\n",
    "\n",
    "faq_data = load_faq_data()\n",
    "print(f\"총 FAQ 수: {len(faq_data)}\")"
   ]
  },
  {
   "cell_type": "code",
   "execution_count": 4,
   "id": "299f4e46",
   "metadata": {},
   "outputs": [
    {
     "name": "stdout",
     "output_type": "stream",
     "text": [
      "샘플 데이터: {'question': '[가입절차] 스마트스토어센터 회원가입은 어떻게 하나요? (ID만들기)', 'answer': '네이버 커머스 ID 하나로 스마트스토어센터와 같은 네이버의 다양한 커머스 서비스를 편리하게 이용하실 수 있습니다.네이버 커머스 ID가 없으시다면 [가입하기] 버튼을 통해 회원가입해 주세요.\\xa0\\xa0 \\xa0 \\xa0 \\xa0 \\xa0\\xa01. \\'네이버ID\\' 로 네이버 커머스 ID 가입하기1) [네이버 아이디로 가입하기] 버튼을 눌러서 네이버 로그인 해 주세요.2) 연락가능한 휴대폰번호를 입력하시고 인증하신 후 개인정보 수집동의를 체크 하여 [가입] 버튼을 눌러주세요.\\xa03) 네이버 커머스 ID 회원가입이 완료되어 해당 네이버ID 로 스마트스토어센터 서비스 가입을 하실 수 있습니다.\\xa0이 후 스마트스토어센터 로그인 시에 [네이버 아이디로 로그인] 버튼을 눌러서 네이버 로그인을 하실 수 있습니다.\\xa02. \\'이메일 아이디\\'로 네이버 커머스 ID 가입하기\\xa01) [이메일 아이디로 가입하기] 버튼을 눌러서 사용할 ID를 입력해 주세요.! 중요. 로그인 ID는 \"실 사용중인 이메일주소\"로 기재하셔야 합니다. (예 : abc@naver.com)2) 연락가능한 휴대폰번호와 이메일주소를 입력하시고 인증하신 후 개인정보 수집동의를 체크 하여 [가입] 버튼을 눌러주세요.3) 네이버 커머스 ID 회원가입이 완료되어 해당 이메일 아이디로 스마트스토어센터 서비스 가입을 하실 수 있습니다.이 후 스마트스토어센터 로그인 시에 해당 이메일 아이디와 비밀번호를 입력하여 로그인을 하실 수 있습니다.\\xa0※ 참고. 로그인 ID 계정 대표자와 사업자번호 대표자 동일여부는 체크하지 않습니다. (대표자가 상이해도 가입 진행 가능합니다.)\\xa0 \\xa0\\xa0 \\xa0 \\xa0 \\xa0 \\xa0\\xa0\\n\\n\\n위 도움말이 도움이 되었나요?\\n\\n\\n별점1점\\n\\n별점2점\\n\\n별점3점\\n\\n별점4점\\n\\n별점5점\\n\\n\\n\\n소중한 의견을 남겨주시면 보완하도록 노력하겠습니다.\\n\\n보내기\\n\\n\\n\\n관련 도움말/키워드\\n\\n스마트스토어 로그인ID(매니저)를 추가하거나 변경할 수 없나요?\\n네이버 커머스 ID 전환 이후, 이전 아이디로 로그인이 불가한가요?\\n네이버 커머스 ID 전환 후 로그인이 되지 않아요.\\n\\n\\n\\n도움말 닫기'}\n"
     ]
    }
   ],
   "source": [
    "print(\"샘플 데이터:\", faq_data[0])"
   ]
  },
  {
   "cell_type": "markdown",
   "id": "f829cb4e",
   "metadata": {},
   "source": [
    "## 데이터 정보 및 결측치 확인"
   ]
  },
  {
   "cell_type": "code",
   "execution_count": 5,
   "id": "35a8b769",
   "metadata": {},
   "outputs": [
    {
     "name": "stdout",
     "output_type": "stream",
     "text": [
      "<class 'pandas.core.frame.DataFrame'>\n",
      "RangeIndex: 2717 entries, 0 to 2716\n",
      "Data columns (total 2 columns):\n",
      " #   Column    Non-Null Count  Dtype \n",
      "---  ------    --------------  ----- \n",
      " 0   question  2717 non-null   object\n",
      " 1   answer    2717 non-null   object\n",
      "dtypes: object(2)\n",
      "memory usage: 42.6+ KB\n",
      "None\n",
      "\n",
      "결측치 수:\n",
      "question    0\n",
      "answer      0\n",
      "dtype: int64\n"
     ]
    }
   ],
   "source": [
    "df = pd.DataFrame(faq_data)\n",
    "print(df.info())\n",
    "print(\"\\n결측치 수:\")\n",
    "print(df.isnull().sum())"
   ]
  },
  {
   "cell_type": "markdown",
   "id": "66b16646",
   "metadata": {},
   "source": [
    "## 중복 질문 확인"
   ]
  },
  {
   "cell_type": "code",
   "execution_count": 6,
   "id": "58486860",
   "metadata": {},
   "outputs": [
    {
     "name": "stdout",
     "output_type": "stream",
     "text": [
      "중복 질문 수: 0\n"
     ]
    }
   ],
   "source": [
    "# 중복 질문\n",
    "duplicate_questions = df[df[\"question\"].duplicated()][\"question\"]\n",
    "print(f\"중복 질문 수: {len(duplicate_questions)}\")\n",
    "if len(duplicate_questions) > 0:\n",
    "    print(\"중복 질문 예시:\", duplicate_questions[:5].tolist())"
   ]
  },
  {
   "cell_type": "markdown",
   "id": "a15beb66",
   "metadata": {},
   "source": [
    "## 단어 및 글자 수 확인"
   ]
  },
  {
   "cell_type": "code",
   "execution_count": 7,
   "id": "312b2ec4",
   "metadata": {},
   "outputs": [
    {
     "name": "stdout",
     "output_type": "stream",
     "text": [
      "question 길이(단어) 통계:\n",
      "count    2717.000000\n",
      "mean        7.757085\n",
      "std         2.966410\n",
      "min         2.000000\n",
      "25%         6.000000\n",
      "50%         7.000000\n",
      "75%        10.000000\n",
      "max        21.000000\n",
      "Name: question, dtype: float64\n",
      "\n",
      "answer 길이(단어) 통계:\n",
      "count    2717.000000\n",
      "mean      103.531837\n",
      "std       111.616336\n",
      "min        21.000000\n",
      "25%        48.000000\n",
      "50%        72.000000\n",
      "75%       117.000000\n",
      "max      2063.000000\n",
      "Name: answer, dtype: float64\n",
      "\n",
      "question 길이(글자) 통계:\n",
      "count    2717.000000\n",
      "mean       36.045271\n",
      "std        12.968743\n",
      "min         8.000000\n",
      "25%        27.000000\n",
      "50%        34.000000\n",
      "75%        44.000000\n",
      "max        92.000000\n",
      "Name: question, dtype: float64\n",
      "\n",
      "answer 길이(글자) 통계:\n",
      "count    2717.000000\n",
      "mean      501.685315\n",
      "std       546.043168\n",
      "min       113.000000\n",
      "25%       241.000000\n",
      "50%       350.000000\n",
      "75%       564.000000\n",
      "max      9094.000000\n",
      "Name: answer, dtype: float64\n"
     ]
    }
   ],
   "source": [
    "question_length_words = df[\"question\"].apply(lambda x: len(str(x).split()))\n",
    "answer_length_words = df[\"answer\"].apply(lambda x: len(str(x).split()))\n",
    "question_length_chars = df[\"question\"].apply(len)\n",
    "answer_length_chars = df[\"answer\"].apply(len)\n",
    "\n",
    "print(\"question 길이(단어) 통계:\")\n",
    "print(question_length_words.describe())\n",
    "print(\"\\nanswer 길이(단어) 통계:\")\n",
    "print(answer_length_words.describe())\n",
    "print(\"\\nquestion 길이(글자) 통계:\")\n",
    "print(question_length_chars.describe())\n",
    "print(\"\\nanswer 길이(글자) 통계:\")\n",
    "print(answer_length_chars.describe())"
   ]
  },
  {
   "cell_type": "code",
   "execution_count": 8,
   "id": "f2211acd",
   "metadata": {},
   "outputs": [
    {
     "data": {
      "image/png": "[encoded data removed]",
      "text/plain": [
       "<Figure size 1000x500 with 2 Axes>"
      ]
     },
     "metadata": {},
     "output_type": "display_data"
    }
   ],
   "source": [
    "plt.figure(figsize=(10, 5))\n",
    "plt.subplot(1, 2, 1)\n",
    "question_length_words.hist(bins=20)\n",
    "plt.title(\"질문 길이 분포 (단어 수)\")\n",
    "plt.subplot(1, 2, 2)\n",
    "answer_length_words.hist(bins=20)\n",
    "plt.title(\"답변 길이 분포 (단어 수)\")\n",
    "plt.show()"
   ]
  },
  {
   "cell_type": "markdown",
   "id": "2172ed6f",
   "metadata": {},
   "source": [
    "### 이상치 확인"
   ]
  },
  {
   "cell_type": "code",
   "execution_count": 9,
   "id": "50d4e8b6",
   "metadata": {},
   "outputs": [
    {
     "name": "stdout",
     "output_type": "stream",
     "text": [
      "답변 길이 1000 이상 FAQ 수: 5\n",
      "\n",
      "이상치 FAQ 상세:\n",
      "\n",
      "Index: 1838\n",
      "질문: 마케팅채널 분류를 알고 싶어요.\n",
      "답변 길이: question       4\n",
      "answer      1042\n",
      "Name: 1838, dtype: int64 단어\n",
      "답변: Biz Advisor에서는 아래와 같이 마케팅 채널들을 분류하여 제공하고 있습니다.(참고로 유입 검색어/키워드별 유입은 [마케팅분석 > 검색채널]리포트에서 확인 할 수 있습니다.)\n",
      "\n",
      "채널속성L1_채널그룹L2_채널명L3_채널상세PC/M검색바이두검색(-)빙검색(-)다음검색(-)구글검색(-)카카오검색(-)네이트검색(-)네이버검색(-)줌검색(-)검색광고네이버 사이트검색광고(-)네이버 쇼핑검색광고(-)네이버 브랜드검색(일반형)(-)네이버 브랜드검색(브랜드존형)(-)네이버 클릭초이스플러스(-)네이버 클릭초이스상품광고(-)네이버 신제품검색(-)네이버 서칭뷰(-)네이버 플레이스광고(-)구글 검색광고(-)다음 검색광고(-)네오클릭광고(-)광고유튜브광고(구글 동영상광고)(-)네이버 성과형디스플레이광고(-)네이버 보장형디스플레이광고(-)네이버 보장형디스플레이광고모바일메인 헤드라인DA네이버 보장형디스플레이광고모바일메인 스페셜DA네이버 보장형디스플레이광고모바일메인 브랜딩DA네이버 보장형디스플레이광고모바일메인 스마트채널네이버 보장형디스플레이광고모바일메인\n",
      "  연예FirstView네이버 보장형디스플레이광고모바일서브광고네이버 보장형디스플레이광고모바일서브 연예하단네이버 보장형디스플레이광고PC메인 롤링보드네이버 보장형디스플레이광고PC메인 타임보드네이버 보장형디스플레이광고PC서브광고네이버 보장형디스플레이광고네이버TV 동영상광고네이버 보장형디스플레이광고네이버스포츠 동영상광고네이버 보장형디스플레이광고웹툰광고네이버 보장형디스플레이광고스노우광고네이버 보장형디스플레이광고모바일메인 쇼핑라이브네이버 보장형디스플레이광고모바일메인 풀스크린네이버 보장형디스플레이광고모바일메인 쇼케이스네이버 보장형디스플레이광고모바일메인 풀스크린스마트채널네이버 보장형디스플레이광고PC메인 하단네이버 보장형디스플레이광고공통네이버 보장형디스플레이광고기타소셜네이버 블로그(-)네이버 카페(-)네이버 포스트(-)네이버TV(-)유튜브(-)페이스북(-)인스타그램(-)X(트위터)(-)메신저네이버톡톡(-)일반유입네이버 모바일메인(-)네이버모바일메인-리빙(-)네이버모바일메인-선물샵(-)네이버모바일메인-쇼핑(-)네이버모바일메인-장보기(-)네이버모바일메인-패션뷰티(-)웹사이트웹사이트(유입호스트명)기타기타채널(-)사용자정의사용자정의(-)채널속성L1_채널그룹L2_채널명L3_채널상세PC/M쇼핑네이버쇼핑-광고쇼핑박스네이버쇼핑-광고모바일 트렌드Pick네이버쇼핑-광고모바일 핫딜광고네이버쇼핑-광고모바일 트렌드Shop네이버쇼핑-광고모바일 CAR&LIFE네이버쇼핑-광고PC쇼핑블록 몰명링크네이버쇼핑-광고PC쇼핑블록 쇼핑-오늘의혜택네이버쇼핑-광고PC쇼핑블록 쇼핑-핫아이템네이버쇼핑-광고PC쇼핑블록 쇼핑-포커스템네이버쇼핑-광고PC쇼핑블록 쇼핑-브랜드샵네이버쇼핑-광고PC쇼핑블록 쇼핑-쇼핑몰소식네이버쇼핑-광고PC쇼핑블록 맨즈-오늘의혜택네이버쇼핑-광고PC쇼핑블록 맨즈-핫아이템네이버쇼핑-광고PC쇼핑블록 맨즈-포커스템네이버쇼핑-광고PC쇼핑블록 맨즈-브랜드샵네이버쇼핑-광고PC쇼핑블록 맨즈-쇼핑몰소식네이버쇼핑-광고쇼핑버티컬광고\n",
      "네이버쇼핑-광고원쁠딜네이버쇼핑-광고탑탑네이버쇼핑-광고기타네이버쇼핑-서비스쇼핑홈네이버쇼핑-서비스쇼핑MY네이버쇼핑-서비스도착보장네이버쇼핑-서비스패션타운네이버쇼핑-서비스백화점윈도네이버쇼핑-서비스아울렛윈도네이버쇼핑-서비스스타일윈도네이버쇼핑-서비스디자이너윈도네이버쇼핑-서비스뷰티윈도네이버쇼핑-서비스럭셔리네이버쇼핑-서비스리빙윈도네이버쇼핑-서비스푸드윈도네이버쇼핑-서비스장보기네이버쇼핑-서비스키즈윈도네이버쇼핑-서비스펫윈도네이버쇼핑-서비스플레이윈도네이버쇼핑-서비스아트윈도네이버쇼핑-서비스미스터네이버쇼핑-서비스핫딜네이버쇼핑-서비스선물네이버쇼핑-서비스해외직구네이버쇼핑-서비스BEST네이버쇼핑-서비스기획전네이버쇼핑-서비스AiTEMS네이버쇼핑-서비스공통네이버쇼핑-통합검색(-)네이버쇼핑-검색(-)네이버쇼핑-선물검색(-)네이버쇼핑-카탈로그(검색)(-)네이버쇼핑-카탈로그(검색외)(-)네이버쇼핑-쇼핑라이브(-)네이버페이(-)네이버페이장바구니네이버페이결제내역네이버페이일반※ 회색표시마케팅채널 : 결제 기여도를 받지 않는 마케팅채널  각 채널 그룹에 대한 상세한 유입경로는 아래 설명을 참고해 주세요. [검색광고]클릭에 대한 비용을 지불하여 사이트 또는 상품이 노출되는 검색광고 영역에서 스마트스토어로 유입이 발생했을 경우 마케팅채널 그룹은 검색광고로 집계됩니다.검색광고 별 노출 영역에 대한 설명은 각 상품 소개 페이지를 참고해 주세요.네이버 사이트 검색광고 바로가기》네이버 쇼핑 검색광고 바로가기》네이버 브랜드 검색 바로가기》네이버 신제품검색광고 바로가기》네이버 디스플레이광고 바로가기》네이버 플레이스광고 바로가기》※ 참고.· 네이버 브랜드 검색은 그룹유형에 따라 ⑴[네이버 브랜드 검색(일반형)], ⑵[네이버 브랜드 검색(브랜드존형)]으로 구분되어 제공됩니다.- 검색광고 채널그룹 하위 채널 : 네이버 사이트검색광고, 네이버 쇼핑검색광고, 네이버 브랜드검색(일반형),   네이버 브랜드 검색(브랜드존형), 네이버 클릭초이스상품광고, 네이버 클릭초이스플러스, 네이버 신제품광고, 네이버 서칭뷰, 네이버 플레이스광고, 다음검색광고, 구글 검색광고, 네오클릭광고! 주의.· 네이버 검색광고에 대한 정확한 추적을 위해 반드시 각 캠페인별[자동추적URL파라미터] 기능을 설정해 주시기 바랍니다.자세한 내용은 아래 네이버 검색광고 공지를 참고해 주시기 바랍니다.스마트스토어 및 프리미엄로그분석 이용 광고주 대상 자동추적URL 파라미터 설정 안내 공지사항》[검색]네이버 통합검색 결과나 타 검색엔진의 검색 결과를 통해 스마트스토어로 바로 유입된 경우 마케팅채널 그룹은 검색으로 분류됩니다.아래와 같은 경우에 '검색'으로 Biz Advisor에서 분류하고 있습니다.(Ex. 네이버에서 '대학생백팩'키워드를 검색하여 웹사이트 검색 결과에서 스마트스토어로 연결되는 URL을 클릭)단, 네이버 통합검색 결과 중 네이버쇼핑 영역에 속하는 클릭은 '네이버쇼핑-통합검색'이라는 채널로 별도로 분류해서 보여드리고 있습니다.자세한 내용은 아래 '쇼핑'채널 그룹의 설명을 참고해주세요.- 검색 채널크룹 하위 채널 : 네이버검색, 구글검색, 다음검색, 줌검색, 네이트검색, 바이두검색, 빙검색, 카카오검색[광고]채널그룹 '검색광고'로 분류가 어려운 경우 채널그룹'광고'로 제공합니다.- 광고 채널그룹 하위 채널 : 유튜브광고(구글 동영상광고), 네이버 성과형디스플레이광고(GFA), 네이버 보장형디스플레이광고※ 참고.· 네이버 보장형디스플레이광고는 광고상품명에 따라 마케팅채널 명칭이 세분화되어 있습니다. 자세한 강고 상품 소개서는 아래 link 통해 확인 가능합니다.네이버 디스플레이광고 바로가기》 !주의.· 유튜브광고(구글 동영상광고)는 youtube.com에서 유입되면서, 랜딩페이지 URL 파라미터로 gclid가 있는 경우에만 측정됩니다.[소셜]네이버 블로그, 네이버 카페, 인스타그램, 페이스북 등으로 부터 유입되는 경우 채널그룹 '소셜'로 분류됩니다.- 채널그룹 '소셜'(Social) 하위 채널 : 네이버 블로그, 네이버 카페, 네이버 포스트, 네이버TV, 유튜브(youtube)[일반유입]현재 '일반유입'은 모바일 네이버 앱/웹의 네이버 메인(http://m.naver.com) 판에서(ex. 쇼핑투데이, 패션뷰티 판, 리빙 판) 스마트스토어로 바로 유입된 경우를 가르키고 있습니다.네이버 메인의 여러가지 주제판 중, [리빙, 선물샵, 쇼핑, 장보기, 패션뷰티] 주제판에서 스마트스토어로 유입되는 경우는 주제판별로 집계가 됩니다.(2021년 6월 28일 부터)- 일반유입 채널그룹 하위 채널 : 네이버 모바일메인, 네이버 모바일메인-리빙, 네이버 모바일메인-선물샵,                                             네이버 모바일메인-쇼핑, 네이버 모바일메인-장보기, 네이버 모바일메인-패션뷰티[웹사이트](2019년 6월 18일 보고서 이후 제공)별도의 한글 명칭을 부여하기 어려운 마케팅채널 중 특정 웹사이트로부터의 유입이 명확히 확인되는 경우 [웹사이트 > 웹사이트]로 분류됩니다.[웹사이트 > 웹사이트] 유입의 상세 내용은 [마케팅분석 > 웹사이트채널]보고서에서 유입 URL(=유입 host)에 따라 나눠서 보여집니다.- 웹사이트 채널그룹 하위 채널 : 웹사이트[기타]기타채널로 분류된 마케팅채널은 아래 도움말을 참고해 주세요.마케팅채널이 '기타채널'로 나오는건 어떤 경우인가요?- 기타 채널그룹 하위 채널 : 기타채널[메신저]메신저 서비스를 통해 스마트스토어로 유입된 경우 '메신저'마케팅채널 그룹으로 분류하고 있습니다.현재 네이버 톡톡서비스(메신저 상담창 및 마케팅 메시지 등)로 부터의 유입만 해당 채널에서 보여지고 있으며,추후 라인, 카카오톡 등의 메신저 서비스를 통한 유입도 본 채널그룹으로 제공될 수 있습니다.- 메신저 채널그룹 하위 채널 : 네이버톡톡[쇼핑]네이버 쇼핑 영역에서 유입된 각종 케이스들을 모아 '쇼핑'마케팅채널 그룹으로 분류하고 있습니다.* 네이버쇼핑 - 광고PC쇼핑블록, 모바일핫딜광고, 트렌드Pick, CAR&LIFE 등 네이버쇼핑에서 판매중인 쇼핑광고로부터스마트스토어로 유입(클릭)이 발생한 경우, [쇼핑 > 네이버쇼핑-광고]로 분류됩니다.네이버쇼핑광고 바로가기≫※ 참고. [원쁠딜]은 [네이버쇼핑-광고 > 원쁠딜]로 분류됩니다.* 네이버쇼핑 - 서비스네이버쇼핑 전체에서 쇼핑검색, 쇼핑광고를 제외한 나머지 영역에서 유입이 되는 경우 [쇼핑 > 네이버쇼핑-서비스]로 분류됩니다.[네이버쇼핑-서비스]내의 보다 상세한 영역은 [채널상세]를 통해 확인 할 수 있습니다.[네이버쇼핑-서비스]의 [채널상세]별 의미는 다음과 같습니다.- 쇼핑홈 : 네이버쇼핑의 홈(Home, 혹은 메인페이지)은 아래 URL을 통해 접속 할 수 있는 페이지를 말합니다.네이버쇼핑의 홈(Home)의 일부가 [네이버쇼핑-서비스 > 쇼핑홈]으로 분류됩니다.└ 네이버쇼핑홈(Home) : https://m.shopping.naver.com/ ,  https://shopping.naver.com/네이버쇼핑 홈(Home)에 존재하는 각 영역별 유입마케팅채널분류는 다음과 같습니다.· [쇼핑홈] : 쇼핑모바일최상단배너, 한눈에보는랭킹, 오늘의인기 아이템, 브랜드스토어· [쇼핑MY] : 최근본상품, 찜한상품, 찜한스토어, 재구매추천· [AiTEMS] : AiTEMS 추천상품, 나의선호몰· [핫딜] : HotDetal- 도착보장 : 네이버 쇼핑의 [도착보장(Beta)] 서비스로부터의 유입입니다.- 쇼핑윈도(리빙윈도 등) : 네이버쇼핑의 각 윈도 서비스로부터의 유입입니다.- 미스터, 핫딜(소셜베스트, 럭키투데이), 선물, BEST, 기획전 : 네이버쇼핑의 각 서비스로부터의 유입입니다.※ 참고. 럭키투데이는 2022년 12월 21일 수요일자로 서비스가 종료되었습니다. - AiTEMS : AiTEMS서비스 지면 뿐만 아니라 네이버쇼핑 홈(Home)의 AiTEMS추천상품, 나이선호몰에서 유입된 경우도 이 마케팅 채널로 분류합니다.- 쇼핑 MY : 네이버쇼핑의 쇼핑MY 서비스로부터의 유입, 네이버쇼핑 홈(Home)의 최근본상품, 찜한상품, 찜한스토어, 재구매추천에서 유입된 경우도 이 마케팅채널로 분류합니다.└ https://shopping.naver.com/my/home, https://m.shopping.naver.com/my/home[네이버쇼핑-서비스]에서 들어온 것은 맞으나 아직 분류가 안 된 위에 언급되지 않은 나머지[네이버쇼핑-서비스]영역에서의 유입은 [네이버쇼핑-서비스 > 공통]으로 분류됩니다.* 네이버쇼핑 - 통합검색네이버 PC/모바일 통합검색 경과 내 '네이버쇼핑'영역에서의 유입을 의미합니다.클릭이 발생한 공간 자체는 통합검색 서비스이나, 네이버쇼핑에서 제공하는 서비스 영역이기 때문에 '쇼핑'채널그룹으로 분류됩니다. * 네이버쇼핑 - 검색(1) 네이버쇼핑에서 바로 검색어를 입력하여 검색 결과에서 스마트스토어로 유입되거나,(2) 네이버 통합검색에서 검색한 후 '쇼핑더보기'를 클릭하여 네이버쇼핑 영역으로 넘어온 후 유입된 경우가 이에 해당됩니다.* 네이버쇼핑 - 선물검색네이버 모바일 통합검색에서 선물 관련 키워드(ex. 남자친구선물)를 검색하여 스토어에 유입하였거나, 하단 '선물 더보기'를 클릭하여 이어지는 화면에서 스토어에 유입한 경우를 가리킵니다.* 네이버쇼핑 - 카탈로그(검색)네이버에서 검색어를 입력하여 상품의 가격비교 페이지를 거쳐 스토어로 유입되는 경우가 이에 해당됩니다.* 네이버쇼핑 - 카탈로그(검색 외)네이버쇼핑에서 제공하는 상품의 가격비교 페이지를 거쳐 스토어로 유입되었으나, 검색어가 없는 경우를 가리킵니다.네이버쇼핑의 카테고리 검색을 통하거나, 상품 가격비교 페이지 내의 '함께 찾아본 상품' 등 추천 영역을 통한 경우 가격비교 페이지로 부터 스토어로 유입되어도 검색어가 없을 수 있습니다.* 네이버쇼핑 - 쇼핑라이브네이버 쇼핑Live(https://shoppinglive.naver.com)에서 스마트스토어에 유입되는 경우 이 마케팅채널로 분류합니다.※ 참고.· 네이버 쇼핑Live 서비스로부터의 유입을 좀 더 상세하게 분류해 달라는 요청에 따라 네이버 쇼핑 Live로 부터의 유입분류 방식이 변경됩니다.· 마케팅채널명 [사용자정의 > 사용자정의]로 분류되며,  이 유입에 대한 상세 내역은 [마케팅분석 > 사용자정의채널]에서 [nt_OOO]파라미터별 값을 이용하여 확인 가능합니다.· 쇼핑Live영상, 쇼핑Live숏클립, 직접 사용자 정의설정 으로 부터의 유입인 경우는 [사용자 정의]로 분류됩니다.  쇼핑Live전체 서비스에서, 쇼핑Live영상, 쇼핑Live숏클립을 제외한 다른 부분에서 스토어로 유입은 [쇼핑 > 네이버쇼핑-쇼핑라이브] 로 분류됩니다.· 2023. 06. 29 오후 부터 [숏클립]으로 부터의 유입도 [마케팅분석 > 사용자정의채널]에서 [nt_OOO]파라미터별 값을 이용하여 확인할 수 있습니다. nt_OOO 명칭 값 예시 설명 nt_source nshoplive 쇼핑Live 서비스 nt_medium 135243 방송ID, 숏클립ID nt_detail onair / replay / shortclip (shortclip은 2023. 06. 29 오후 부터) 방송상태(라이브 / 다시보기) nt_keyword shoppinglive / ocb / cashwalk 방송이 재생되는 지면(media)* 네이버페이네이버페이 하위에는 채널상세 '장바구니', '결제내역', '일반'이 있으며, 각 마케팅 채널별 설명은 다음과 같습니다. 아래 네이버페이 마케팅채널은 결제에 대한 기여도를 받지 않습니다. (아래 마케팅채널에 대한 '결제금액'은 항상 0입니다.) (2022년 2월 24일 이후)채널명채널상세설명네이버페이장바구니장바구니에서\n",
      "  스마트스토어/쇼핑윈도 로 유입되는 경우네이버페이결제내역과거\n",
      "  결제내역에서 스마트스토어/쇼핑윈도 로 유입되는 경우네이버페이일반네이버페이\n",
      "  서비스 중 위 2개가 아닌 곳으로 부터 유입되는 경우 (예: 결제진행중인 상품을 클릭하여 사이트로 유입되는 경우) \n",
      "\n",
      "\n",
      "위 도움말이 도움이 되었나요?\n",
      "\n",
      "\n",
      "별점1점\n",
      "\n",
      "별점2점\n",
      "\n",
      "별점3점\n",
      "\n",
      "별점4점\n",
      "\n",
      "별점5점\n",
      "\n",
      "\n",
      "\n",
      "소중한 의견을 남겨주시면 보완하도록 노력하겠습니다.\n",
      "\n",
      "보내기\n",
      "\n",
      "\n",
      "\n",
      "도움말 닫기...\n",
      "\n",
      "Index: 1855\n",
      "질문: 마케팅 분석 자주 묻는 질문\n",
      "답변 길이: question       5\n",
      "answer      1612\n",
      "Name: 1855, dtype: int64 단어\n",
      "답변: Q1) [마케팅분석 > 웹사이트채널]의 '채널상세'에 알 수 없는 URL이 있습니다. 어떤 서비스인가요?(a) friens.naver.com으로 부터 유입되는 경우 (채널 상세에 friens.naver.com가 있는 경우)     스마트스토어의 모바일용 상품상세페이지에서 [선물하기 > 친구에게 선물하기]를 클릭하고,     [친구선택]화면에서 우측 상단 X를 클릭하여 상품상세페이지로 접속한 경우 (웹사이트채널)[ friens.naver.com]에서     유입이 발생한 것으로 측정되며, [웹사이트채널 > (host) friens.naver.com]로 분류됩니다. 이 경우 통계 [마케팅분석 > 웹사이트채널] 보고서의 하단 표에서는 아래와 같이 노출됩니다. (b) campaign.naver.com 네이버의 여러가지 서비스에서 임시적인 홍보페이지로 쓰기 위한 사이트로 여러가지 서비스에서 다양한 용도로 사용하고 있습니다.예를들어 다음과 같은 것들이 있을 수 있습니다.'https://campaign.naver.com/event/npay-travelnloca 2208'(c) link.naver.com 네이버 서비스 등에서 해당 컨텐츠 또는 페이지로 바로가는 '단축link'를 생성하는 경우[link.naver.com]을 통해서 사이트에 도달하기 때문에, 사이트 입장에서는 [link.naver.com]으로 들어오는 것으로 측정되는 경우가 많습니다.예를들어 아래와 같은 단축 URL을 생성하는 경우 link.naver.com에서 사이트로 들어가는 것으로 사이트 입장에서 보입니다.'https://naver.me/5xN49rot'(d) keep.naver.com 네이버의 keep 서비스입니다.(e) *.navercorp.comOOO.navercorp.com에서 유입이 되는 경우는 네이버 서비스 관리를 위한 네이버 내부 시스템인 경우들 입니다.예를들어 다음과 같은 경우가 있습니다.- pmon.navercorp.com , pmon2.navercorp.com : 네이버쇼핑 서비스 품질 관리를 위한 모니터링 시스템(f) ad-creative.gfa.naver.com 성과형디스플레이광고 중 [카탈로그 판매캠페인]의 광고 클릭을 통해 스마트스토어/브랜드스토어/쇼핑윈도 사이트에 유입된 경우에는[광고 > 네이버 성과형디스플레이광고]로 잡히지 않고 ad-creative.gfa.naver.com도메인에서 유입된 것으로 잡힙니다.(g) kin.naver.com, m.kin.naver.com네이버 지식인 서비스로부터 스토어 유입이 발생한 경우 kin.naver.com 혹은 m.kin.naver.com으로 분류 됩니다.그 외 네이버 서비스가 아닌 곳으로부터의 유입은 별도 파악이 어려워 답변 드리지 못하는 점 양해 부탁드립니다.Q2) 네이버 검색광고, 브랜드 검색 등으로 부터의 유입이 잡히지 않습니다. (혹은 검색어가 잡히지 않습니다.)A) 네이버 광고를 이용하고 있으시다면 [https://searchad.naver.com/]에서 각 캠페인별 자동추적 URL기능을 선택하셔야 네이버 검색광고,   네이버 브랜드 검색으로부터의 유입이 정상적으로 잡힙니다.   네이버 디스플레이광고 중 검색형 디스플레이광고를 이용하고 있으시다면, 광고의 link_url에 [n_query={query}]의 URL parameter를 넣으시면   {query}부분이 광고클릭 시 [검색어]로 치환되어 사이트에 유입되며, 이를 이용해서 보고서에 검색어가 보여질 수 있습니다.※ 참고. 보다 구체적인 설정 방법에 대해서는 디스플레이광고로 문의해 주시기 바랍니다.Q3) 특정 한번의 유입이 여러가지 유입에 나눠질 수도 있나요?A) 특정 1회의 유입은 1가지의 마케팅채널로만 잡히며, 유입수도 1회만 측정합니다.※ 참고. 2개 이상의 마케팅채널로 나뉘거나 한번의 유입이 2회 측정되지 않습니다.Q4) 상품카테고리, 쇼핑스토리 등 상품상세페이지가 아닌 곳으로 랜딩이 될 경우도 유입과 전환추적이 가능한가요?A) 상품상세페이지 뿐만 아니라 상품카테고리, 쇼핑스토리 등 스토어 내부의 어디로든 랜딩이 되면 '유입'으로 보고 유입측정이 되면 전환도 추적/측정이 가능합니다.Q5) 유입측정 시 체류시간이 일정 시간 이상 되어야 하는 등의 추가 조건이 있나요?A) 없습니다. 스토어 외부에서 스토어로 접속하기만 하면 그 조건으로 유입이 측정 되며, 유입으로 측정되기 위한 다른 추가 조건(예: 체류시간 등)은 없습니다.※ 참고. 단, 사이트에 직접 URL을 입력하고 접속하는 경우는 유입으로 측정되지 않으며, 고객수로도 측정되지 않습니다.Q6) 집행하지 않거나, 집행이 끝난 광고에서 유입이 발생하고 있습니다.- 모바일에서만 광고를 집행했는데, PC유입이 발생했습니다.A) 여러가지 이유로 질문과 같은 상황이 발생하거나, 질문과 같은 상황으로 오해할 수 있습니다.   다양한 사례가 발생할 수 있어 가능한 상황을 아래 나열해 드리니 참고해 주시기 바랍니다.(a) 다른 광고계정에서 동일한 사이트에 대한 광고가 집행되는 경우스마트스토어센터 [통계]에서 유입을 측정할 때는 보고서를 보는 사람과 광고 집행하는 사람의 일치여부 등을 확인하지는 않습니다.다른 광고 계정에서 광고가 집행되는 경우에도 내 사이트로 접속한다면 유입수는 측정이 됩니다.(b) 본인계정이지만 다른 광고 그룹에서 광고 집행이 되고 있는 경우, 혹은 광고 노출 시간 조건 등을 잘못 알고 있는 경우사용하는 광고의 내부 구조가 복잡하거나 (예: 네이버 검색광고의 경우 캠페인 > 광고그룹 > 소재, 키워드 등의 구조를 가지고 있음) 혹은 집행하는 광고그룹이 많아서 실제로는 광고가 집행되고 있는데, 광고가 중단 되었다고 오해를 하실 수 있습니다.또는 광고 노출 시간을 정할 수 있는데 광고 노출 시간 조건을 잘못 알고 있는 경우도 있을 수 있습니다.(c) 광고가 열려있는 상태에서 나중에 클릭한 경우광고가 브라우저에서 열려있는 상태에서 남아있다가 광고 집행종료 시간이 지난 후 나중에 클릭된 경우에도 광고 유입으로 잡힐 수 있습니다.(d) 광고 클릭 후 랜딩된 페이지의 URL을 그대로 가지고 있다가 다시 들어가 보는 경우광고를 클릭한 후 랜딩된 페이지의 URL을 그대로 가지고 있다가 다시 들어가 보는 경우 (예: 즐겨찾기를 통해 들어가거나 메신저 채팅방 등으로 공유된 URL을 그대로 클릭해서 들어가는 경우)에도 유입으로 측정이 됩니다.(e) 통계(BizAdvisor) 보고서를 보고 오해를 하는 경우[통계 > 마케팅분석 > 사용자정의채널] 보고서에서 [nt_source=naver.gfa]와 같은 정보를 보고 GFA(네이버 성과형디스플레이광고)에서 유입이 발생했다고 오해를 하시는 경우가 많습니다.[네이버 성과형디스플레이광고]는 nt_OOO파라미터를 이용하여 유입사용자정의를 하여도 이를 무시하는 마케팅채널이어서 사용자정의채널에 보이는 [GFA유입]정보는 실제 GFA유입이 아닙니다.[판매분석 > 상품/마케팅채널]보고서에 나타난 [네이버 성과형디스플레이광고]를 보고 오해를 하시는 경우도 있습니다.예를 들어 7/27 하루치에 대한 보고서를 보고 있는데 이 보고서에 [네이버 성과형디스플레이광고]가 표시되었다고 해서 7/27에 집행하지 않은[네이버 성과형디스플레이광고]가 유입된 것으로 보인다고 생각하는 경우입니다.[판매분석 > 상품/마케팅채널]보고서는 결제날짜를 기준으로 정보를 보여주며, 마케팅채널과 연결은 결제날을 포함하여 과거 14일동안 유입을 보고결제정보(결제수, 결제금액)을 분배하기 때문에 7/27에 집행하지 않은 광고도 이 보고서에는 표시될 수 있습니다.(f) 모바일 기기용 광고를 집행했는데 PC유입이 잡히는 경우모바일 기기용 지면에서 노출되는 광고를 집행했는데 [채널속성]이 (PC)인 유입이 발생하여 문의가 접수되는 경우도 있습니다.현재 [채널속성]에는 해당 고객이 사용한 단말기의 브라우저 정보를 살펴보고 PC/모바일로 보여주는 것으로 PC를 이용하여 모바일 지면에 접속해서 광고를 클릭한 경우에는 [채널속성]은 \"PC\"로 표시됩니다.Q7) 특정 마케팅수단으로부터 유입이 잡히지 않습니다. 어떻게 해야 할까요?A) 광고/마케팅 수단의 랜딩이 스마트스토어/브랜드스토어/쇼핑윈도가 아닌 경우 광고 소개 랜딩이 쇼핑live이거나, 기획전 등 스마트스토어/브랜드스토어/쇼핑윈도가 아닌곳으로의 랜딩일 경우에는 BizAdvisor 통계가 제공되지 않습니다.광고소재 랜딩이 스마트스토어/브랜드스토어/쇼핑윈도가 아닌 다른 곳인지 확인해 주시기 바랍니다.Q8) 유입 될 때의 상품과 결제한 상품이 일치하지 않아도 유입과 결제가 연결이 되나요?A) 결제가 일어난 후 유입에 기여한 결제금액을 마케팅채널에 부여할때 유입한 사람과 결제한 사람이 동일한 것을 찾아 유입-결제를 연결하여,유입 시 랜딩될 때의 상품과 결제 상품은 달라도 사람만 동일하면 유입-결제(전환)가 연결됩니다.※ 참고. 해당 내용은 모든 유입/마케팅채널 종류에 대해 동일하게 적용되며, 사용자정의(nt_OOO)의 경우도 동일합니다.Q9) 스마트폰 애플리케이션(application)으로 부터의 유입을 측정하고 싶습니다.A) 스마트폰앱(app)으로 부터의 유입은 [(유입)사용자정의(nt_OOO)]를 이용하여 측정이 가능합니다.   보다 자세한 내용은 아래 도움말을 참고해 주시기 바랍니다.   사용자정의유입 개념 및 방법 도움말 보러가기≫Q10) 스마트스토어 홈 방문자수와 통계에서의 방문자수(=고객수)가 다릅니다.A) 위 두개의 정보는 값을 구하는 로직이 달라 값이 다를 경우가 많습니다.   스마트스토어 홈에 표시되는 정보는 [오늘(today)의 방문자수]와 각 일별 방문자수를 합한 [Total방문자수]입니다.   (방문행동수가 아니라 방문한 사람의 숫자입니다. 1명의 방문자는 여러명의 방문수를 발생시킬 수 있습니다.)※ 참고. 모바일 스마트스토어 화면에는 '방문수 152'와 같이 노출되나, 방문수가 아니라 '방문자수'입니다.스마트스토어에 표시되는 [오늘(today)의 방문자수]와 통계 (BizAdvisor)의 값을 비교한다면 [통계 > 마케팅분석 > 전체채널]의 [고객수]와 비교 되어야 합니다.■ 스마트스토어 홈 Today방문자수- (a) 사이트(스마트스토어)에 접속한 사람의 user 식별자 중 일별로 중복을 제거한 숫자- (b) 사이트 외부의 링크를 통해 들어온 사람, 사이트 직접 방문한 사람 모두 측정■ 통계 (BizAdvisor)고객수- (c) 사이트에 접속한 사람의 user 식별자 중 일별로 중복을 제거한 숫자- (d) 사이트 외부의 링크를 통해 들어온 경우만 측정, 사이트 직접 방문한 사람은 측정에서 제외그 외 (a)와 (c)의 기준도 세부적으로 들어가면 다릅니다.위 2개 지표(Today 방문자수 vs 고객수)는 측정하는 기준이 많이 다르기 때문에, 직접적으로 비교하시는 것에 별다른 분석적 의미가 있지는 않습니다.만약, 방문자수 혹은 고객수 지표를 꾸준히 모니터링 하고 싶으시다면 [통계 (BizAdvisor) 고객수]를 꾸준히 모니터링 하시는 것을 추천드립니다.※ 참고.2023년 7월 10일(월)에 통계에서 보여드리는 유입에 대해 필터링 로직이 적용 되었습니다.관련 공지 보러가기≫스마트스토어센터의 '통계'메뉴에서 볼 수 있는 보고서에서 위 필터링 적용 날짜 이후의 보고서를 보시는 경우[유입수/고객수]에는 이상 유입이 제거되어, 필터링 적용 이전 날짜의 보고서의 값과 비교해 볼 때 일정 부분 값이 줄어들게 되었습니다.이에 따라, [스마트스토어 홈 방문수]와 '통계'의 [유입수/고객수]간 차이가 더 많이 발생하고 있으니 참고해 주시기 바라며,[고객수/방문수]지표를 꾸준히 모니터링 하고 싶으시다면, 스마트스토어 센터 '통계'메뉴에서 볼 수 있는 [고객수]를 모니터링해 주시기 바랍니다.Q11) 네이버 톡톡 마케팅메시지를 전송한 적이 없으나 네이버 톡톡 유입이 있습니다.A) 마케팅메시지 뿐만 아니라, 네이버 톡톡 서비스를 통해 스마트스토어/쇼핑윈도로 접속하는 모든 경우에 대해 '네이버 톡톡 유입'으로 잡힙니다.   예를들어 상품상세페이지의 톡톡 문의를 통해 대화를 나누던 중 상품상세페이지로 가는 link를 클릭하는 경우도 '네이버 톡톡'유입으로 잡힙니다.Q12) 쇼핑스토리를 거쳐서 결제한 내역도 알 수 있나요?A) 쇼핑스토리는 스토어 내부이며, 스토어 내부의 이동흐름과 결제에 대한 정보는 아직 제공되지 있지 않는 점 양해 부탁드립니다.Q13) 인스타그램에서 쇼핑스토리로 랜딩된 뒤 결제 시 유입은 어떻게 잡히나요?A) 쇼핑스토리는 스마트스토어 내 영역이며, 유입은 스토어 외부에서 스토어로 접속할때 측정합니다.해당의 경우 인스타그램에서 쇼핑스토리로 접속할 때가 스토어 외부에서 스토어를 접속할때 이므로 [소셜 > 인스타그램]으로 유입이 잡힙니다.Q14) 카카오톡 메시지에서 링크 클릭하여 스마트스토어로 유입 후 결제하는 경우 유입채널은 무엇으로 측정되나요?A) 카카오톡으로부터의 유입은 현재 아무런 유입으로 잡히고 있지 않습니다.카카오톡 유입을 측정하고 싶으신 경우 (유입)사용자정의채널 방법을 이용해 주셔야 하며, 이용 방법에 대해서는 아래 도움말 참고해 주시기 바랍니다.사용자정의유입 개념 및 방법 도움말 보러가기≫Q15) [요약 > 실시간보고서, 오늘보고서]를 보니 이상한 유입이 다수 확인됩니다.누군가 악의적으로 유입을 발생시키는 것으로 보이는데, 스토어에 악영향을 주는 것은 없는지, 원인이 무엇인지 확인 가능할까요?A)BizAdvisor통계에서는 상황을 관찰/측정하여 보여드릴 뿐 그 상황이 악의적인 것인지, 스토어에 영향이 있는지 까지는 알기 어렵습니다.원인 파악 등을 해 드리기는 현실적으로 어려움이 있고, 정확성도 떨어져서 안내를 드리지 못하는 점 양해 부탁드립니다.Q16) 스토어의 상품과 전혀 관련없는 검색어로 유입이 발생하고 있습니다.A) 검색 시스템에서 이용자들이 입력하는 검색어와 상품믈 매칭할 때, 상품 측면에서는 상품에 대한 매우 여러 가지 다양한 정보 요소들이 고려됩니다.이 과정에서 검색어의 일부와 상품정보의 아주 부분적인 요소들이 매칭되는 경우가 있습니다.검색어와 상품이 직접적인 관련이 없다고 해도 검색어의 일부, 상품정보의 일부가 매칭되는 경우도 있음을 참고해 주시기 바랍니다.Q17) 보장형/성과형 디스플레이 광고에서 각 소재별 성과를 알고 싶습니다.A) 현재 BizAdvisor통계를 통해 각 소재별 성과를 알 수 있는 방법은 없습니다.사용자정의(nt_OOO)를 해도 네이버 광고 관련 마케팅채널들은 이를 무시하기 때문에 소재별 성과를 BizAdvisor통계를 통해 알 수 있는 방법이 없는 점 양해 부탁드립니다.Q18) 스마트스토어 사이트에 접속헀으나, 유입으로 잡히지 않는 것 같습니다. 왜 그런가요?A) BizAdvisor 통계에서는 사이트 직접 유입(기술적으로는 사이트 진입 시 referrer가 없는 경우)시 유입으로 측정하지 않습니다.사이트 직접 유입(referrer가 없는 경우)는 다음과 같은 경우가 있을 수 있습니다.- 브라우저에 사이트 URL을 직접 타이핑하여 들어가는 경우- 브라우저 즐겨찾기를 통해서 사이트에 들어가는 경우- QR코드를 통해 사이트에 들어가는 경우- 스마트폰 App(예: 카카오톡)link를 클릭해서 사이트에 들어가는 경우  스마트폰 App link를 클릭해서 사이트에 들어가는 경우 일반적으로는 사이트 직접 유입의 경우여서 유입 측정이 안됩니다.  이 경우 [사용자정의유입] 설정을 하시면 유입 측정이 가능합니다. (관련 도움말을 참고해 주세요.)   QR코드를 통해 사이트에 들어가는 경우에도 유입 측정이 안되는 경우가 있습니다. QR코드에 연결된 Link_URL에 [사용자정의유입] 설정을 하시면 마찬가지로 유입 측정이 가능합니다.Q19) 마케팅분석 관련 보고서의 표에서 [채널속성]컬럼에 [PC/모바일]이 표시되는데, 이 정보는 어떤 기준으로 표시가 되는건가요?A) 스마트스토어센터 [통계 > 마케팅분석] 하위 보고서의 표에는 [채널속성]컬럼이 있으며, 이 곳에는 [PC/모바일] 2가지 값 중 1개가 들어갑니다.이 정보는 해당 유입 발생 시 [단발기의 종류]를 의미합니다. (단말기가 이용한 웹페이지의 종류를 의미하는 것이 아닙니다.)예를들어, 'PC'라는 단말기를 이용해서 [모바일 기기용 매체]를 통해 스토어로 유입되었다면, 해당 유입의 [채널속성]은 접속 단말기의 종류를 보고 'PC'로 분류되며,만약 [스마트폰]을 이용하여 [PC용 매체]를 통해 스토어로 유입되었다면, 해당 유입의 [채널속성]은 접속 단말기의 종류인 [모바일]로 분류됩니다.Q20) [요약 > 실시간보고서]에서 '유입수'보다 '방문고객수'가 많은 경우가 있습니다. 왜 그런가요? A) [요약 > 실시간보고서]에서 '방문고객수'는 최근 30분 동안 유입이 발생한 고객이거나, 혹은 30분 동안 사이트 내에서 유입없이 활동한 고객수를 모두 고려하는데 반해유입수는 반드시 외부 매체를 통해 들어오는 경우만 count하기 때문에 '방문고객수'가 '유입수'보다 많을 수 있습니다.예를 들어 특정 3명의 사람들이 사이트를 1시간 이상 계속 살펴보고 있으며, 다른 사람의 유입이 없는 상황이라면 방문고객수는 3명이지만, 유입수는 0으로 보고서에 보입니다.  \n",
      "\n",
      "\n",
      "위 도움말이 도움이 되었나요?\n",
      "\n",
      "\n",
      "별점1점\n",
      "\n",
      "별점2점\n",
      "\n",
      "별점3점\n",
      "\n",
      "별점4점\n",
      "\n",
      "별점5점\n",
      "\n",
      "\n",
      "\n",
      "소중한 의견을 남겨주시면 보완하도록 노력하겠습니다.\n",
      "\n",
      "보내기\n",
      "\n",
      "\n",
      "\n",
      "도움말 닫기...\n",
      "\n",
      "Index: 1856\n",
      "질문: 사용자정의 유입 자주 묻는 질문\n",
      "답변 길이: question       5\n",
      "answer      1148\n",
      "Name: 1856, dtype: int64 단어\n",
      "답변: Q1) 스마트스토어로 가는 link URL이 있을 때, 유입 사용자정의(nt_OOO)를 하기 위해 URL을 만드는 방법A) Link_URL에 nt_OOO파라미터와 값을 붙여줘야 합니다.(최소 nt_source=OOO, nt_medium=OOO 2개 파라미터와 value는 있어야 합니다. 이 2개 마저 없을 경우 잘못된 유입 사용자정의로 판단하여, nt_OOO 사용자정의 설정을 무시합니다.)예시1) 스마트스토어 상품상세페이지로 가는 Link_URL에 사용자정의를 하는 경우(원래 link_url) https://smartstore.naver.com/allchir/products/7235299848(사용자정의 link_url) https://smartstore.naver.com/allchir/products/7235299848?nt_source=kakaotalk&nt_medium=messenger&nt_datail=4월가입캠페인- 기본구조 : (기존link_url)+[?a=1&b=2&c=3]의 형식- URL 전체에서 ?는 한번만 나와야 하므로, 이미 기존 URL에 ?가 있는 경우는 [&a=1&b=2&c=3]과 같이 붙임예시2) 브랜드스토어 쇼핑스토리로 가는 Link_URL에 사용자정의를 하는 경우 (URL에 이미 ?가 있는 경우)(원래 link_url) https://brand.naver.com/OOOOO/shoppingstory/detail?id=2001969613&page1(사용자정의 link_url) https://brand.naver.com/OOOOO/shoppingstory/detail?id=2001969613&page1&nt_source=kakaotalk&nt_medium=messenger&nt_datail=4월가입캠페인 - link_url 전체에서 ?는 한번만 나와야 함틀린예시) URL 전체에 ?가 두번 들어간 경우 (detail?id=, /?nt_source)https://brand.naver.com/OOOOO/shoppingstory/detail?id=2001990823/?nt_source=navet_specialDA&nt_medium=naver&nt_datai=0524EC - ?뒤에 ?가 또 나오기 때문에 잘못된 URL 형식이며, 왼쪽 먼저나온 ?뒤에 /등의 특수기호가 나오면 안됨 (?a=1&b=2&c=3 이런 형식으로만 나와야 함)→ 올바르게 수정한 URL) https://brand.naver.com/OOOOO/shoppingstory/detail?id=2001990823&nt_source=navet_specialDA&nt_medium=naver&nt_datai=0524EC※ 참고.· 유입 사용자정의 시 각 nt_OOO파라미터와 값은 [nt_OOO=값]의 형태로 넣습니다. 최소 nt_source=OOO, nt_medium=OOO 2개의 파라미터와 value 한쌍이 있어야 합니다. 이 2개 (nt_source, nt_medium) 마저 없을 경우 잘못된 유입사용자정의로 판단하여, nt_OOO 사용자정의 설정을 무시합니다. 값에서 사용가능한 특수문자는 하이픈(-), 언더바(_), 마침표(.) 3가지 입니다. nt_source, nt_medium은 영어 및 위 특수기호만 가능하고, nt_datail, nt_keyword는 영어, 한글 및 위 특수기호만 가능합니다. (되도록 한글은 사용하지 않는 것을 권장드립니다.)Q2) 사용자정의용으로 만든 URL이 link_url 포맷에 맞는지 확인하고, 실제 유입 되는지 테스트 하기A) 사용자정의용 URL을 수기로 만들다 보니, URL이 인터넷에서 사용되는 URL 포맷에 맞지 않는 경우가 많습니다. 실제 적용 전에 포맷이 맞는지 확인 및 테스트를 해보는 것이 좋습니다.검색어[url parser], [url parameter fomatter] 등으로 검색엔진에서 검색하면 검색결과에 URL Parser, Query String Splitter등의 내용을 포함한 사이트들이 확인되며,해당 사이트들에 직접 만든 link_url을 넣어보면, link_url이 포맷 측면에서 오류없이 잘 만들어졌는지 확인할 수 있습니다.예를들어 영문 검색 엔진에서 url parameter fomatter로 검색하면 노출되는 아래 사이트를 이용해서 link_URL이 포맷 측면에서 오류 없이 만들어진 것 인지 확인해 보겠습니다.- https://www.freefomatter.com/url-parser-query-string-splitter.html(a) 포맷에 맞는지 확인해보기① https://www.freefomatter.com/url-parser-query-string-splitter.html 접속② 아래 UI부분에 유입사용자정의용으로 만든 URL을 넣고 Parser URL을 클릭 ③ nt_source, nt_medium, nt_datail 등 설정한 nt_OOO가 왼쪽에 모두 보이는지, 각각의 nt_OOO당 부여한 값이 우측에 잘 나오는지 확인해 주세요.이 값들이 아래 처럼 보이면 해당 URL 포맷은 정상입니다. URL 포맷이 틀린 경우)​위 Q1)에서 '틀린예시'에 사용된 예시 URL을 확인해 보면 아래와 같습니다.https://brand.naver.com/OOOOO/shoppingstory/detail?id=2001990823/?nt_source=navet_specialDA&nt_medium=naver&nt_datai=0524EC 아래 이미지 처럼 nt_source가 id의 오른쪽 부분에 보이고, nt_source가 왼쪽 컬럼에 보이지 않으므로, 이 경우는 정상이 아닙니다. ※ 참고.위 도구는 URL 형태가정상적인지를 확인할 수 있도록 도와주는 도구이나, 정상적임을 반드시 보증하는 도구는 아닙니다.(b) 유입이 되는지 BizAdvisor 통계로 테스트 해보기앞서 만든 URL 정상이라면 [요약 > 실시간보고서]의 마케팅 채널별 유입수 Top10에서'사용자정의'라는 마케팅채널 명칭으로 유입을 실제 발생 후 1~3분내에 확인 할 수 있습니다. (nt_OOO 파라미터값 별로 실시간 확인은 안됨)nt_OOO별로 확인하는 것은 실제 발생 후 다음날 만들어지는 [마케팅분석 > 사용자정의채널]보고서에서 확인 가능합니다. Q3) URL형태가 정상이나 [요약 > 실시간보고서]에서 확인되지 않거나, [마케팅분석 > 사용자정의채널]에서 확인 되지 않는 경우(a) URL 형태가 정상이나, [요약 > 실시간보고서] 혹은 [마케팅분석 > 사용자정의채널]에서 확인되지 않는 경우는 사용자정의를 무시하는 네이버 광고 관련 마케팅 채널인 것으로 보입니다.아래와 같은 광고상품에 대해 [사용자정의]를 한 것은 아닌지 살펴봐 주시기 바랍니다.- 사용자정의 유입 적용이 되지 않는 (혹은 적용해도 무시하는) 마케팅채널은 다음의 총 12가지 입니다.[검색광고]의 [네이버 클릭초이스플러스], [네이버 클릭초이스플러스상품광고], [네이버 쇼핑검색광고], [네이버 사이트검색광고], [네이버 브랜드검색(일반형)], [네이버 브랜드검색(브랜드존형)], [네이버 신제품검색], [네이버 서칭뷰], [네이버 플레이스광고] 9가지, [광고]의 [네이버 성과형디스플레이광고], [네이버 보장형디스플레이광고] 2가지, [쇼핑]의 [네이버쇼핑-광고] 1가지, 총 12가지 (b) BizAdvisor 통계에서 잘못된 사이트가 선택되어 있을 수 있습니다.BizAdvisor 통계는 사이트/판매채널 단위로 보고서가 제공됩니다. (스마트스토어 1개, 쇼핑윈도 2개를 운영중이라면 총 3개의 각 사이트에 대한 보고서가 제공됩니다.)올바른 사이트/판매채널이 선택된 것인지 확인해 보시기 바랍니다.Q4) 쇼핑 Live로 랜딩되도록 nt_OOO파라미터를 이용하여 사용자정의를 했는데 BizAdvisor 통계에서는 정보가 보이지 않습니다.A) BizAdvisor 통계가 유입을 잡는 사이트는 '스마트스토어', '쇼핑윈도' 2가지 입니다.   쇼핑 Live는 쇼핑 Live 통계를 살펴봐 주시기 바랍니다.Q5) 사용자정의채널 설정을 위해 단축 URL을 사용해도 되나요?A) 설정방식에 따라 될 수도 있고, 되지 않을 수도 있습니다. 크게 아래 2가지의 경우가 있으니 참고해 주세요.① 단축 URL에 nt_OOO파라미터와 값을 통째로 넣는 경우는 일반적으로 가능합니다.예시) 랜딩페이지 URL : https://smartstore.naver.com/allchir/products/7235299848nt_OOO파라미터 결합 :  https://smartstore.naver.com/allchir/products/7235299848?nt_source=naversearchad&nt_medium=searchad&nt_detail=newcampaign이 URL 전체를 단축 URL로 만들어서 Link로 활용하시면 (예: http://bit.y/3OfPea를 link로 사용) 사용자정의채널 유입확인이 가능합니다.② 단축 URL뒤에 nt_OOO파라미터를 붙이는 경우는 일반적으로 해당 nt_OOO파라미터들이 전달 되지 않는 경우가 많이 때문에 안된다고 생각해 주시기 바랍니다.Q6) 스마트스토어/ 브랜드스토어 내 쇼핑스토리에 사용자정의(nt_OOO)를 해도 유입으로 잡히고, 결제 전환 등도 잡히나요?A) 쇼핑스토리는 스마트스토어 내부 페이지 입니다.   따라서, 쇼핑스토리로 랜딩 시 유입으로 잡히며, 결제가 일어나면 결제 전환도 잡힙니다.   사용자정의(nt_OOO)를 한 유입도 유입의 일종이므로, 다른 유입과 동일하게 취급됩니다. (유입측정 및 결제 전환도 잡힙니다.) Q7) 사용자정의(nt_OOO)를 URL에 설정할 때, URL은 PC용 사이트URL, 모바일용 사이트URL을 따로 각각 설정해야 하나요?A) 아닙니다. PC용 사이트 URL, 모바일용 사이트 URL 중 어느 한쪽만 설정해도 다른 쪽까지 잘 작동 됩니다. 예를 들어,https://brand.naver.com/OOOOO/shoppingstory/detail?id=2001990823&nt_source=naver_specialDA&nt_medium=displayad위 URL은 PC기기용 사이트 URL이지만, 모바일기기를 이용해서 위 URL에 접속해도 정상적으로 nt_OOO 파라미터들이 수집됨https://m.brand.naver.com/OOOOO/shoppingstory/detail?id=2001990823&nt_source=naver_specialDA&nt_medium=displayad위 URL은 모바일기기용 사이트 URL이지만, PC기기를 이용해서 위 URL에 접속해도 정상적으로 nt_OOO 파라미터들이 수집됨Q8) 디스플레이광고 의 성과를 측정할 때, 각 소재별로 측정할 수 있는 방법이 있나요?A) 현재는 디스플레이광고의 성과를 각 소재별로 측정할 수 있는 방법은 없습니다.    사용자정의(nt_OOO)를 하셔도, 디스플레이광고는 사용자정의(nt_OOO)를 무시하는 마케팅채널이어서, 사용자정의를 하셔도 측정이 되지 않습니다.Q9) 사용자정의(nt_OOO)를 하여도 해당 설정이 아무 소용이 없다는 것의 구체적인 의미와 어떤 마케팅채널들이 있는지 알 수 있나요?A) 사용자정의(nt_OOO)를 하면 발생하는 특정 1회의 유입에서 유입으로 분류할 수 있는 정보가 여러가지가 있는 경우가 발생하곤 합니다.유입분류를 위한 정보가 여러가지가 있다보니, A로도 분류할 수 있고, B로도 분류할 수 있습니다.이 때문에 여러가지 유입분류를 고려하는 정보들에 우선순위를 두어서 우선순위가 높은 정보를 이용하여 특정 마케팅채널로 일관되게 분류하도록 로직이 설계되어 있습니다.대부분의 마케팅채널은 사용자정의(nt_OOO)를 하면, 사용자정의가 우선순위가 높도록 설계되어 있어 유입 발생 시 [마케팅분석 > 사용자정의채널]에서 정보를 볼 수 있습니다.단, 전체 마케팅채널 중 일부 마케팅채널들은 사용자정의(nt_OOO)보다 원래 해당 마케팅채널로 분류하기 위한 정보가 우선순위가 높아 사용자정의(nt_OOO)를 해도 아무런 영향이 없습니다.예를 들어 [네이버 사이트검색광고]의 경우 사용자정의(nt_OOO)를 하여도 (광고에 자동추적 URL파라미터 기능이 설정되었거나, 프리미엄 로그분석을 사용하고 있다면)사용자정의(nt_OOO)가 아무런 역할도 못하고 [네이버 사이트검색광고]만 분류됩니다. (사용자정의로 분류되지 않습니다.)이와 같이 사용자정의(mt_OOO)가 아무런 역할을 못하는 마케팅채널은 다음과 같으니, 참고해 주시기 바랍니다.\n",
      " 채널속성\n",
      "L1_채널그룹 \n",
      "L2_채널명 \n",
      " L3_채널상세\n",
      "\n",
      " \n",
      " 검색광고\n",
      " 네이버 사이트검색광고 \n",
      " (-) \n",
      "\n",
      "\n",
      " 네이버 쇼핑검색광고\n",
      " (-) \n",
      "\n",
      "\n",
      " 네이버 브랜드검색(일반형)\n",
      " (-) \n",
      "\n",
      "\n",
      " 네이버 브랜드검색(브랜드존형)\n",
      " (-) \n",
      "\n",
      "\n",
      " 네이버 신제품검색\n",
      " (-) \n",
      "\n",
      "\n",
      " 네이버 서칭뷰\n",
      " (-) \n",
      "\n",
      "\n",
      " 네이버 플레이스 광고\n",
      " (-) \n",
      "\n",
      "\n",
      " \n",
      " 네이버 성과형디스플레이광고\n",
      " (-) \n",
      "\n",
      "\n",
      " 네이버 보장형디스플레이광고\n",
      " (-) \n",
      "\n",
      "\n",
      " 네이버 보장형디스플레이광고\n",
      " 모바일메인 헤드라인DA\n",
      "\n",
      "\n",
      " 네이버 보장형디스플레이광고\n",
      " 모바일메인 스페셜DA\n",
      "\n",
      "\n",
      " 네이버 보장형디스플레이광고\n",
      " 모바일메인 브랜딩DA\n",
      "\n",
      "\n",
      " 네이버 보장형디스플레이광고\n",
      " 모바일메인 스마트채널\n",
      "\n",
      "\n",
      " 네이버 보장형디스플레이광고\n",
      " 모바일메인 연예FirstView\n",
      "\n",
      "\n",
      " 네이버 보장형디스플레이광고\n",
      " 모바일서브광고\n",
      "\n",
      "\n",
      " 네이버 보장형디스플레이광고\n",
      " 모바일서브 연예하단\n",
      "\n",
      "\n",
      " 네이버 보장형디스플레이광고\n",
      " PC메인 롤링보드\n",
      "\n",
      "\n",
      " 네이버 보장형디스플레이광고\n",
      " PC메인 타임보드\n",
      "\n",
      "\n",
      " 네이버 보장형디스플레이광고\n",
      " PC서브광고\n",
      "\n",
      " 네이버 보장형디스플레이광고 네이버TV 동영상광고 네이버 보장형디스플레이광고 네이버스포츠 동영상광고 네이버 보장형디스플레이광고 웹툰광고 네이버 보장형디스플레이광고 스노우광고 네이버 보장형디스플레이광고 모바일메인 쇼핑라이브 네이버 보장형디스플레이광고 공통 네이버 보장형디스플레이광고 기타 PC/M 쇼핑 네이버쇼핑-광고 쇼핑박스 네이버쇼핑-광고 트렌드Pick 네이버쇼핑-광고 핫딜광고 네이버쇼핑-광고 트렌드Shop 네이버쇼핑-광고 원쁠딜 네이버쇼핑-광고 기타\n",
      "Q9) 사용자정의를 해도 이를 무시하는 광고상품(예: 네이버 보장형/성과형 디스플레이광고)에 대해 사용자정의(nt_OOO)를 했는데, 유입이 잡힙니다. 왜 그런가요?A) 다음과 같은 2가지 경우가 있을 수 있습니다.Case 1) 네이버 보장형/성과형 디스플레이광고의 경우, 사용자정의(nt_OOO)를 무시하도록 되어 있습니다.하지만, 종종 다른 유입 수단으로부터 유입이 발생한 것인데 [마케팅분석 > 사용자정의채널]보고서의 nt_OOO의 값에 [naver_special_da]등의 값이 보임으로써이를 [내이버 보장형디스플레이광고] 등에서 유입이 발생한 것으로 오해를 하는 경우가 있습니다.[마케팅분석 > 사용자정의채널] 보고서에서 nt_source=naver_special_da와 같은 값이 보이더라도, 이 유입은 네이버 보장형/성과형 디스플레이광고로 부터의 유입이 아닌 다른곳으로부터 유입이 발생한 것 입니다.혹시 다른 종류의 유입수단에서 이 nt_OOO값을 사용했는지 확인해 보시기 바랍니다.Case 2)네이버 검색광고 상품의 경우 캠페인별 자동추적 URL을 설정하지 않았으면서, 프리미엄 로그분석 또한 사용하지 않으시는 경우사용자정의 (nt_OOO)를 link_URL에 대새 설정했다면, 사용자정의 분류 될 수 있습니다.(이 경우라면 실제 네이버 검색광고 유입이 사용자정의로 분류되어 [마케팅분석 > 사용자정의채널] 보고서에서 내역을 확인할 수 있습니다.)\n",
      "\n",
      "\n",
      "위 도움말이 도움이 되었나요?\n",
      "\n",
      "\n",
      "별점1점\n",
      "\n",
      "별점2점\n",
      "\n",
      "별점3점\n",
      "\n",
      "별점4점\n",
      "\n",
      "별점5점\n",
      "\n",
      "\n",
      "\n",
      "소중한 의견을 남겨주시면 보완하도록 노력하겠습니다.\n",
      "\n",
      "보내기\n",
      "\n",
      "\n",
      "\n",
      "도움말 닫기...\n",
      "\n",
      "Index: 2430\n",
      "질문: [라이브 유의사항 및 운영정책] 쇼핑라이브 진행 시 창작자(판매회원) 운영정책 안내\n",
      "답변 길이: question      10\n",
      "answer      2063\n",
      "Name: 2430, dtype: int64 단어\n",
      "답변: 라이브커머스 운영정책 본 운영정책은 쇼핑라이브 창작자 이용약관 제4조, 스마트스토어 판매 이용약관 제25조에 따라 제정된 것으로써, 위 약관들과 더불어 관련 서비스 이용계약을 구성합니다.창작자(판매회원)께서는 본 운영정책을 반드시 확인하시고 준수해야 하며, 운영정책을 준수하지 않음으로 인해 서비스 이용에 제한을 받는 일이 없도록 주의하시기 바랍니다. I. 라이브커머스 콘텐츠 게재제한일정한 라이브커머스 콘텐츠가 다음의 각 항목 중 어느 하나에 해당할 경우, 해당 라이브커머스의 진행이 중지·중단되거나 해당 콘텐츠가 삭제될 수 있으며, 쇼핑라이브를 비롯한 네이버의 서비스에서 비공개 처리될 수 있습니다. 특히, 아래 1. ①의 사유가 확인되는 경우 즉시 형사고발 조치 및 서비스 이용의 영구정지가 이루어질 수 있습니다. 1. 비공개 사유 ① 정보통신망 이용촉진 및 정보보호등에 관한 법률 제44조의7의 불법정보에 해당하거나, 방송통신심의위원회가 정한 정보통신에 관한 심의규정에 위반하는 불법적인 내용이 포함된 경우[대표적 사례들]- 음란물 또는 잔인/폭력/혐오 등 청소년에게 부적합한 방송- 공공질서 및 미풍양속에 위배되는 저속, 음란한 내용을 포함하는 라이브- 법령에 따라 분류된 비밀 등 국가기밀을 누설하는 내용의 라이브- 타인에게 공포심, 불안감 또는 불쾌감을 유발하는 라이브- 타 라이브커머스 콘텐츠 및 다른 창작자(판매회원)에 대한 비방 목적의 라이브② 전자상거래 등에서의 소비자보호에 관한 법률(이하 ‘전자상거래법’) 및 기타 관계 법령에서 인터넷 상의 광고, 판촉 및 거래행위를 금하고 있는 상품과 관련된 경우[대표적 사례들]- 스마트스토어 상품등록정책상 취급불가상품 등 매매부적합상품을 노출 또는 판매하는 라이브- 전자상거래법 제13조 소정의 상품의 정보에 관한 사항 및 거래조건이 부적절하게 등록된 상품을 판매하는 라이브: 라이브에 노출되는 상품에 대응되지 아니하는 10,000원, 1,000원 등의 가격 단위 상품을 태그/연동하는 등으로 전자상거래법상의 상품정보제공의무를 위반할 가능성이 있는 라이브③ 타인을 사칭하거나 기타 사기, 기만 등 불법적이거나 공서양속에 반하는 내용의 제공을 목적으로 하는 경우[대표적 사례들]- 라이브커머스 콘텐츠의 제목과 내용에 불법, 음란, 비속어 등을 기재한 경우- 라이브커머스 콘텐츠 내에서 상품을 설명함에 있어 허위 또는 과장된 내용을 포함하는 경우④ 기타 관계 법령을 위반하거나, 타인의 권리를 침해하거나 침해할 여지가 있다고 판단할 상당한 이유가 있는 경우[대표적 사례들]- 지식재산권 침해, 저작권에 위배되는 라이브: 초상권 및 저작권이 확보되지 않은 유명인 또는 캐릭터를 사용한 경우: 타인의 라이브커머스를 허락 없이 중계하는 라이브: 타인의 콘텐츠 중 창작성이 있는 아이템과 디자인, 이미지 등을 무단으로 도용한 상품을 연동, 판매한 경우: 타인의 상표와 로고를 사전 허가없이 사용한 경우:  음원 저작권 보유 또는 음원 사용 허락이 확인되지 않은 음원이 사용되는 라이브 (음원 저작권에 대한 올바른 표기: 공지에 출처 작성 필수 또는 사전 증빙 제출하여 협의된 경우)- 타인의 초상권을 침해하는 라이브 : 야외 촬영 시 제 3자의 모습이 배경과 같이 노출되는 경우라도 특정인을 식별할 수 없도록 해야함- 부정경쟁방지 및 영업비밀보호에 관한 법률 등 관계 법령에 위배되는 라이브: 타인의 영업비밀 등을 누설하는 내용의 라이브:타인의 상표, 로고 등을 적법한 승낙 없이 사용한 위조상품을 대상으로 하거나, 상표권을 직접 침해하지 않았더라도 타인의 공식 상품이나 정품으로 오인될 수 있는 내용이거나, 국내외에 널리 인식된 타인의 성명, 상호, 상표, 표장 기타 타인의 영업임을 표시하는 표지와 동일하거나 유사한 것을 사용하거나 이러한 것을 사용한 상품을 대상으로 하는 등 부정경쟁행위에 해당하거나 부정경쟁행위로 의심될만한 타당한 정황이 있는 경우- 개인정보보호법 등 관련 법령에 위반하여 자신 또는 타인의 개인정보를 라이브커머스 콘텐츠 또는 채팅에 노출하는 경우- 건강기능식품에 관한 법률, 식품 등의 표시, 광고에 관한 법률, 의료기기법 등 라이브커머스(광고) 대상 상품과 관련된 법률상 라이브커머스 진행에 필요한 요건을 갖추지 못하였거나 관련된 법률을 위반한 경우: 식품 등의 표시, 광고에 관한 법률 제10조 제1항, 동법 시행규칙 제10조에 따라 사전 심의 대상 식품 또는 건강기능식품에 해당되나 심의를 받지 아니하였거나, 심의를 받았더라도 심의 결과에 따르지 않고 심의와 다른 내용의 라이브커머스(표시 또는 광고)를 할 경우: 의료기기법 제 24조 제 2항 제 7호, 제 25조에 따라 사전 심의 대상인 의료기기에 해당되나 심의를 받지 아니하였거나, 심의를 받았더라도 심의 결과에 따르지 않고 심의와 다른 내용의 라이브커머스(표시 또는 광고)를 할 경우- 수입식품안전관리법 및 건강기능식품에 관한 법률 등 관련 법령상의 정식 수입 요건을 충족하지 못함에 따라 국민의 건강에 중대한 영향을 미칠 가능성이 있는 수입 식품(건강식품, 건강기능식품 등 포함)을 대상으로 하는 경우: 건강기능식품에 관한 법률 및 수입식품안전 관리법상 요건을 충족하여 정식 수입된 제품 이외의 구매대행, 직구 등 방식으로 판매되거나 수입된 해외 식품(건강식품, 건강기능식품 등 포함)의 경우: 관련 법령상의 요건을 만족하였음을 라이브커머스 진행 전에 객관적인 증빙자료(유관기관 발급 서류 등)를 제출, 소명한 경우 라이브커머스 진행 가능⑤ 권한 없는 제3자에게 계정을 유상 또는 무상으로 대여하거나 창작자(판매회원) 본인의 관여 없이 제3자에 의해 라이브커머스가 이뤄질 수 있도록 하는 등의 경우[대표적 사례들]- 네이버와의 사전 서면 협의를 거치지 아니하고 본인 또는 타인 소유의 타 스토어/창작자(판매회원)의 상품을 태그하는 등으로 계정 대여로 의심되는 라이브- 타인의 계정을 대여하여 라이브를 진행하는 경우- 창작자(판매회원) 본인의 관여가 있더라도, 라이브 서비스 이용 권한이 없는 다른 판매회원의 스마트스토어 내 상품을 노출하는 등으로 창작자(판매회원) 본인의 스마트스토어 상품이 아닌 타인의 상품을 네이버의 명시적인 사전 서면 승인 없이 연동·태그 또는 노출하는 경우⑥ 창작자(판매회원)의 라이브커머스 진행이 서비스의 성격 및 실질에 부합하지 않는다고 판단하는 경우[대표적 사례들]- 사람이 등장하지 아니하거나 또는 실시간으로 진행되지 않는 라이브: 제품만 배치해두고 (비추고) 아무런 변화나 진행이 없는 라이브: 미리 촬영/제작해 둔 라이브·홍보/광고 영상 등을 모니터 기타 단말기 등 다른 기기에 틀어놓고 그 기기를 촬영/송출하거나 반복해서 보여주기만하는 라이브- 어떠한 말도 하지 아니하고 (i) 상품의 언박싱만 하거나; (ii) 상품을 사용하는 모습만 보여주거나; (iii) 라이브 진행과 무관한 일을 하는 등으로 서비스의 성격 및 실질에 부합하지 아니하는 내용의 라이브 커머스가 노출될 우려가 있는 경우- 테스트 목적 송출 시 리허설 기능을 사용하지 아니함에 따라 서비스의 성격 및 실질에 부합하지 아니하는 테스트성 내용의 라이브가 노출될 우려가 있는 경우: 라이브 제목에 테스트, 리허설, TEST 등 리허설 진행 목적이 드러나는 내용을 포함한 경우- 라이브에서 소개, 홍보, 노출하는 상품과 전혀 관련 없는 상품을 라이브에 태그/연동하고 라이브를 진행하는 경우 - 네이버의 구매안전 서비스 내지 결제대금 보호서비스를 통하지 아니하는 직거래 등 구매/결제 방법·수단을 통한 거래를 유도하는 경우: 스마트스토어 서비스에 등록되어 있지 않은 상품을 라이브에서 노출한 뒤 네이버의 구매안전 서비스, 결제대금 보호 서비스를 통하지 아니하는 수단·방법 등을 통한 직거래를 유도하는 행위: 외부 SNS, 메신저 또는 톡톡 서비스 등을 통해 별도 연락을 요구하거나 라이브커머스 콘텐츠 내 공지사항 또는 채팅으로 신뢰할 수 없는 외부 링크를 노출하는 등 네이버의 구매안전 서비스, 결제대금 보호 서비스를 통하지 아니하는 수단·방법 등을 통한 직거래를 유도하는 행위- 서비스의 기능을 비정상적으로 이용하여 라이브를 진행한 경우 : 네이버의 사전 서면 승인 없이 자동화된 수단 (예: 매크로 프로그램, 로봇(봇), 스파이더, 스크래퍼, 스파이웨어 등)을 이용하여 서비스에 접속하거나 창작자(판매회원) 본인 또는 다른 창작자(판매회원)의 계정에 접속하여 라이브를 진행하는 경우2. 부분공개 사유 라이브커머스 콘텐츠의 일부 또는 전부가 서비스의 성격 및 실질에 부합하지 아니하여 서비스의 품질을 저하할 우려가 있는 경우- 저품질 대표이미지를 사용한 라이브: 규격 사이즈(720 X 1280)보다 지나치게 작거나 큰 이미지를 사용한 경우 : 웹페이지 (스마트스토어 상품 상세페이지 등)의 스크린샷을 사용한 경우: 네이버의 사전 서면 승인 없이 대표 이미지에 텍스트가 포함된 경우- 네이버의 사전 서면 승인 없이 라이브에서 음원을 사용한 경우- 창작자 본인의 상품 소개 및 판매와 관련 없는 일상 콘텐츠 - 동일 또는 유사한 내용의 라이브를 단기간내에 지속적으로 반복하여 송출함으로써 다른 창작자(판매회원)에게 불편을 초래하는 경우- 인위적인 사용자 반응을 과도하게 요구하는 컨텐츠 (좋아요, 찜 등)- 사용자와의 과도한 친목을 조장하거나 이를 명시적으로 노출하는 컨텐츠- 열악한 라이브 환경에서 라이브를 진행하거나 라이브 퀄리티가 현저하게 낮은 경우: 미풍양속에 반하거나, 통신망의 한계 등으로 인해 접속 품질이 극히 낮거나, 과도한 소음이 발생하는 등의 환경에서 진행하는 경우II. ‘라이브 채팅’ 신고 정책 1) 관련 법령을 위반한 내용을 포함한 채팅2) 욕설, 음란/외설적 내용, 타인비방, 폭력적인 내용의 채팅3) 타인에게 공포심, 불안감 또는 불쾌감을 주는 채팅4) 포인트 취득만을 목적으로 다수의 라이브 (10건 이상)에 방송과 관련 없는 무의미한 한글 초성 등 무작위로 기입한 채팅 작성 외에 다른 채팅 참여를 하지 않은 경우5) 아웃콜 등 네이버의 구매안전 서비스, 결제대금 보호 서비스를 통하지 아니하는 수단·방법 등을 통한 직거래를 유도하는 채팅6) 타인 또는 본인의 개인정보를 노출하는 채팅7) 출연자의 명예를 손상시키거나 비방, 모욕감을 줄 수 있는 내용의 채팅8) 라이브커머스와 전혀 관련 없는 광고성 채팅9) 타 라이브커머스 또는 다른 창작자(판매회원)에 대한 비방 목적의 채팅10)  라이브 진행 또는 라이브커머스를 통한 상품 판매를 방해하는 목적의 채팅11)  라이브커머스 콘텐츠와 무관한 내용의 종교적, 정치적 발언을 하는 채팅III. 라이브 이벤트 진행 및 이용 정책1. 창작자는 쇼핑라이브 진행 중 쇼핑라이브 콘텐츠를 시청하는 시청자 중 창작자가 정한 조건을 충족하거나 창작자가 무작위로 선정한 시청자(이하 ‘당첨자’)에게 리워드를 지급하는 라이브 이벤트(이하 ‘이벤트’)를 설정할 수 있습니다.2. 창작자는 서비스의 이벤트 기능을 통해 경품, 포인트, 쿠폰 등과 같은 리워드를 지급하도록 설정할 수 있습니다. 단, 네이버는 서비스 개발 현황, 운영정책 변경 등 운영상, 기술상의 필요 내지 사정을 고려하여 지급 가능한 리워드 종류를 증감 변경 또는 제한할 수 있습니다. 3. 이벤트를 설정하여 이벤트가 개시되면, 창작자는 경품명 등 이벤트의 내용을 변경할 수 없습니다.  단, 이벤트 개시 후에도 경품 고지 내용 등 일부 정보의 수정은 가능합니다.4. 경품을 리워드로 제공하는 경우:- 창작자는 설정한 경품에 대해 제공하는 정보가 실제와 다르지 않음을 보장하며, 당첨자에게 약정한 기한 내에 해당 경품을 지급하여야 합니다.- 경품을 허위로 등록하거나, 당첨자에게 약정한 경품을 지급하지 않는 등 창작자가 이벤트 설정을 통해 시청자에게 약정한 경품 지급 관련 의무를 이행하지 않는 경우, 네이버는 창작자의 라이브 송출 권한을 제한할 수 있습니다.- 창작자는 경품지급을 위해 당첨자로부터 개인정보를 수집하거나 제3자에게 제공하는 경우, 관련 법령을 준수하여 당첨자로부터 사전에 동의를 받아야 합니다. 이때 수집한 개인정보의 보호와 관리에 대한 책임은 창작자에게 있습니다.- 하나의 라이브에서 여러 이벤트를 동시에 진행하는 경우, 해당 쇼핑라이브에서 특정 당첨자가 제공받는 모든 경품의 현금가치를 합산하여 당첨자 단위로 제세공과금을 산정해야하며, 이를 준수하지 않아 발생하는 문제의 책임은 전적으로 창작자에게 있습니다.- ※ 예를 들어, 이벤트로 1,000원 포인트에 당첨된 시청자가 동일한 라이브에서 5만원 상당의 실물 경품에 중복 당첨된 경우, 51,000원에 대한 제세공과금을 창작자가 직접 부담하거나, 당첨자에게 부담하도록 해야합니다.5. 네이버페이 포인트를 리워드로 제공하는 경우:- 이벤트 당첨자에게 지급되는 네이버페이 포인트의 비용은 창작자의 부담으로, 창작자의 ‘판매자 네이버페이 비즈월렛’(이하 ‘네이버페이 비즈월렛’)을 사용해 지급됩니다.- 창작자의 네이버페이 비즈월렛이 이벤트를 진행하기 위해 설정한 이벤트 예산보다 적은 경우, 이벤트를 시작할 수 없습니다.- 이벤트가 시작된 이후에 네이버페이 비즈월렛이 소진되어 이벤트 예산보다 적어지는 경우, 가용한 범위 내에서만 포인트 지급이 이루어지며 해당 쇼핑라이브 종료 후 네이버페이 비즈월렛을 충전하여 시스템상 자동 지급에 실패한 당첨자에게 창작자가 직접 지급처리를 진행해야 합니다.6. 아래 각 호의 사유가 발생할 경우, 네이버는 이벤트를 즉시 중단하거나 창작자의 라이브의 노출 및 송출 권한을 제한 또는 서비스 이용을 정지할 수 있습니다.가. 정보통신망 이용촉진 및 정보보호 등에 관한 법률, 표시광고의 공정화에 관한 법률 등 관련 법령이나 쇼핑라이브 창작자 이용약관, 스마트스토어 판매 이용약관 및 관련 운영정책에 위반되는 불법적이거나 부당한 내용의 이벤트를 진행하거나 이벤트와 관련하여 불법적인 행위를 행하는 경우나. 당첨자를 무작위로 선정하기로 하였으나 특정한 시청자와 공모하여 당첨자를 내정하는 등과 같이 기만적이거나 기타 공서양속에 반하는 방식으로 이벤트를 진행하는 경우다. 쇼핑라이브 콘텐츠에 허위로 이벤트를 등록하거나, 이벤트를 등록만 해두고 진행(시작)하지 않는 등 이벤트 기능을 이용하여 부당하게 소비자를 유인하는 경우 라. 당첨자에게 약정된 경품을 지급하지 않거나 약정한 경품과 다른 경품을 지급하는 등 이벤트에 따른 의무를 이행하지 않는 경우마. 네이버페이 비즈월렛 부족으로 인한 포인트 지급실패가 발생하였음에도 직접 재지급 처리를 하지 않는 경우바. 기타 위 각 호의 사유에 준하여 ‘네이버’가 객관적이고 합리적인 근거에 따라 창작자의 이벤트 진행이 쇼핑라이브 서비스의 성격 및 실질에 부합하지 않는다고 판단하는 경우 7. 네이버는 창작자의 라이브 진행을 위해 관련 기능만을 제공할 뿐, 창작자가 설정하는 라이브 및 이벤트의 내용이나 진행 여부, 지급 대상과 조건, 이벤트를 위해 등록한 콘텐츠(텍스트, 이미지, 동영상 등을 포함하되 이에 한정되지 아니함)등에 관하여 일체 관여하지 않습니다. 만약 라이브와 관련하여 창작자와 시청자 간의 분쟁이 발생할 경우 네이버는 그 분쟁에 개입하지 아니하며, 그 분쟁의 결과로 인한 책임은 창작자가 부담합니다.  또한, 라이브 및 이벤트의 내용이나 진행, 지급, 이벤트를 위해 등록된 콘텐츠 등과 관련하여 시청자 또는 제3자가 네이버를 상대로 민, 형사상 등의 문제를 제기하는 경우 창작자는 해당 문제 해결을 위해 적극 협조하여야 하며, 이와 관련하여 창작자의 귀책사유로 인해 네이버에 손해가 발생한 경우 손해를 배상합니다. 8. 네이버는 다음 각 호의 경우로 인하여 라이브 서비스의 기능을 제공할 수 없게 된 경우 관련 기능의 제공을 일시 중단할 수 있고, 네이버의 고의 또는 중과실이 없는 한 다음 각 호의 경우로 인한 이벤트 관련 기능 중단 내지 오류 발생에 관한 책임이 면제됩니다.가. 통제할 수 없는 기술적 장애나. 기간통신사업자, 본 서비스와 연관된 제휴사에 불가피한 서비스 제공 제한 사항이 발생하는 경우 등 제3자의 귀책사유다. 본 서비스용 설비의 보수 등 공사로 인한 부득이한 경우라. 정전, 제반 설비의 장애 또는 이용량의 폭주 등으로 정상적인 서비스 이용에 지장이 있는 경우마. 국가비상사태, 천재지변, 전염병의 창궐 또는 이에 준하는 불가항력적 사유IV. 서비스 이용제한의 절차1. 네이버는 창작자(판매회원)에 대해 서비스 이용제한을 하는 경우 쇼핑라이브 창작자 이용약관 제5조 제1항 단서 또는 스마트스토어 판매 이용약관 제11조에 정한 방법으로 통지합니다.2. 네이버는 전항의 통지를 하는 경우 창작자(판매회원)에게 원칙적으로 3영업일 이상의 기간을 정하여 이의신청의 기회를 부여하며, 다만 별도의 사전 이의신청 기회를 부여하지 않겠다는 뜻을 전항에 따른 방법으로 통지하였거나 창작자(판매회원)의 관련 법령, 약관, 운영정책 등 위반행위가 중대하거나 고의적이라고 판단될 경우에는 이의신청 기회를 부여하지 않을 수 있습니다.3. 이용제한 조치에 대하여 궁금한 점이나 이의가 있으신 창작자(판매회원)는 네이버 고객센터를 통하여 해당 내용을 문의하시거나 이의를 제기하실 수 있습니다.4. 이용제한 조치와 관련된 창작자(판매회원)의 문의 및 이의가 접수될 경우, 네이버는 해당 내용을 검토하고 처리하며 1항의 방법에 따라 회원에게 그 결과를 통지합니다.5. 이용제한 사유를 확인하고 해소한 창작자(판매회원)는 네이버 고객센터를 통해 이용제한 철회 요청을 하실 수 있으며, 네이버는 해당 이용제한의 철회 여부를 검토하고 처리하며 1항의 방법에 따라 창작자(판매회원)에게 그 결과를 통지합니다.[페널티(비공개/부분공개) 부과 기준]항목상세 기준페널티(비공개/부분공개) 부여기간라이브\n",
      "  비공개/\n",
      "    부분공개본 운영정책에 명시된 콘텐츠 게재제한 정책\n",
      "  위반 라이브 진행 또는 숏클립 게시 1회  시영구 비공개/부분공개\n",
      "    (단, 객관적/합리적 증거자료에 기반한 소명 시 심사 후 해제)[페널티(라이브 송출 제한) 부과 기준]항목상세 기준페널티(라이브 송출제한) 부여기간라이브 송출본 운영정책에 명시된 라이브커머스 콘텐츠 게재제한 정책 중\n",
      "  1.(이하 ‘비공개 사유’)의 ② ~ ⑥ 사유 위반 라이브 진행 또는 숏클립 게시 1회 시신고 처리일 +1영업일까지‘비공개 사유’의 ② ~ ⑥ 사유 위반 2회 누적 시신고 처리일 +1개월까지1. ‘비공개 사유’의 ① 위반 적발 즉시 또는영구 제한2. ‘비공개 사유’의 ② ~ ⑥ 위반 3회 이상 누적 시 \n",
      "\n",
      "\n",
      "위 도움말이 도움이 되었나요?\n",
      "\n",
      "\n",
      "별점1점\n",
      "\n",
      "별점2점\n",
      "\n",
      "별점3점\n",
      "\n",
      "별점4점\n",
      "\n",
      "별점5점\n",
      "\n",
      "\n",
      "\n",
      "소중한 의견을 남겨주시면 보완하도록 노력하겠습니다.\n",
      "\n",
      "보내기\n",
      "\n",
      "\n",
      "\n",
      "도움말 닫기...\n",
      "\n",
      "Index: 2432\n",
      "질문: [라이브 유의사항 및 운영정책] 심의 대상 카테고리 관련 자주 묻는 질문\n",
      "답변 길이: question      11\n",
      "answer      1366\n",
      "Name: 2432, dtype: int64 단어\n",
      "답변: 라이브 심의는 어디서 받아야 하나요?건강기능식품은 한국건강기능식품협회에서 받고, 특수용도식품, 기능성표시식품은 한국식품산업협회에서 받고,의료기기는 한국의료기기산업협회에서 받아야합니다. 건강기능식품 협회에서는 의료기기 및 특수용도식품과 기능성표기식품의 내용을 심의하지 않기 때문에 1개의 라이브에 1개 이상의 심의 카테고리 상품이 연동/ 진행된다면 대본을 각각 협회에 따로 제출하여 심의를 받아야합니다. 예시) A 라이브에 건기식인 오메가3 상품과 특수용도식품(체중조절용 조제식품)인 쉐이크를 연동하여 라이브 진행시, 대본을 작성하여 건강기능식품 협회에도 심의 받고, 한국식품산업협회에도 심의를 받아야합니다. ( 총 2개의 심의통과서 제출 필요 ) 한국건강기능식품협회 바로가기>소비자공익네트워크 (신규 건강기능식품 심의기관)  바로가기 > 한국식품산업협회 바로가기>한국의료기기산업협회 바로가기>​한국의료공업협동조합 바로가기> 심의는 한번만 받으면 되나요?유관기관을 통해 라이브 심의를 한번 통과 받은 후 동일한 내용을 진행한다는 가정 하에 여러 번의 라이브를 진행하거나 숏클립을 게시 할 수 있습니다. 다만 내용/멘트 변경이 있다면 관련 기관에 재심의 진행이 필요합니다.※참고. 숏클립의 경우 라이브와 엄연히 다른 내용, 다른 멘트가 진행되므로 신규 심의 진행이 필요합니다. (단, 라이브의 내용중 일부 구간을 편집없이 그대로 사용하는 경우 재심의가 필요하지 않습니다)  심의 받을때 어떤 자료를 제출 해야 하나요?라이브 대본과 패널 모두 심의가 필요하며, 패널을 사용하지 않는다면 대본 심의만 진행 가능합니다.숏클립의 경우 동영상 심의 진행을 기본으로 하되, 멘트가 있는 숏클립의 경우 대본 심의를 받습니다. 인서트 영상, TV CF 영상의 오디오 스크립트 심의 통과서는 라이브 속 일부인 영상에 대한 심의로 유관기관의 이행 통지를 받았더라도, 라이브 집행에 대한 이행 통지를 받은 것으로 보기 어려우므로 네이버폼에 제출 시 반려됩니다.※참고. 상품 상세페이지 심의나 , 상품 자체를 심의 받은것은 라이브 광고 심의를 받은것이 아닙니다. 라이브 내용을 심의 받아야 합니다. 네이버 쇼핑라이브에도 심의통과서를 한번만 제출하면 되나요?안됩니다, 라이브와 숏클립 각 콘텐츠 한 건 별로 각각 모두 제출하여 사전등록해야 합니다.이전에 동일한 심의 통과서로 확인 완료 메일을 받아본 적이 있다 하더라도 새로운 라이브 또는 숏클립 번호인 경우 사전 제출하지 않으면 심의통과서 미확인 콘텐츠로 간주되어 노출이 제한됩니다.심의통과서 사전 제출하러 바로가기 >네이버 폼에서 제출한 심의 검수 소요시간이 어떻게 되나요?오후 12시 이전 제출한 경우 최대한 당일 검수 진행되도록 하고 있으며, 12시 이후 제출한 경우 그다음 영업일에 순차적으로 검수 진행되며, 고객센터 또는 메일을 통한 선처리 요청은 절대 불가능합니다.반려될 수 있는 부분을 감안해 넉넉하게 일정 잡아서 제출 및 진행 바랍니다.각각 제품들마다 이전에 심의 받은 심의 통과서가 있다면 재심의 받지 않아도 되나요?이전에 심의 받은 내용을 그대로 쭉 이어서 언급할 경우 재심의 받지 않아도 됩니다. 다만, 심의 받은 대본들 여기저기에서 내용을 부분적으로 발췌해 새로운 대본 또는 내용으로 진행될 경우 변경 심의 신청을 하거나 재심의 진행이 필수입니다.라이브와 숏클립에서 언급은 하지 않고 상품 연동,노출만해도 심의 받아야하나요?라이브에 상품을 연동/노출만 해도 광고로 간주합니다. 심의 통과된 상품만 라이브 또는 숏클립에 연동 가능하며, 멘트 없이 상품을 연동/노출만 하는 경우 유관기관에 변경 심의 신청을 진행해 주세요.심의 통과서가 없거나 언급되어 있지 않은 경우, 또는 유관기관에서 심의 거부하는 경우 연동 해제 바랍니다.심의를 받을 때 표시, 광고 매체 타입은 동영상, 홈쇼핑, 인터넷 등 어떤 것을 선택해야 하나요?대본과 패널(외 라이브 중 사용될 영상 등)에 대한 심의가 맞는다면, 매체 타입은 상관없습니다.이미 네이버에서 김의 검수받은 라이브에 추가할 상품이 생겼는데 그냥 진행해도 되나요?아니오, 이미 검수(사전등록) 진행했더라도 추가할 특수식품군 상품이 생긴 경우 해당 내용을 명시하여 다시 제출해 주셔야합니다.심의 검수 확인완료(통과) 메일받은 후 사전 공유 없이 추가 상품 등록되어 있는 경우에도 라이브가 노출 제한됩니다.심의통과서가 라이브 진행 일정이나 숏클립 게시일 늦게 나올것 같은데 유예 가능한가요?아니오, 라이브 광고 집행 사전에 필수로 받아야합니다.이후에 심의통과서 '이행' 결과를 받게 되더라도 사전 심의 미진행으로 위법한 사실은 변함 없습니다.심의 미진행 라이브나 숏클립을 삭제 하면 문제 없나요?콘텐츠를 삭제해도 심의 미진행 상태로 라이브를 진행하여 위법한 사실은 변함없으며, 그 책임은 판매자에게 있습니다.라이브를 삭제해도 위반 진행 사실에는 변함이 없으며 패널티 이력 삭제가 불가능합니다. 심의에 대해 인지하지 못하였거나, 네이버 공지 이전의 라이브 와 숏클립들은 페널티 적용 예외 처리 가능한가요? 사전에 심의에 대해 인지하지 못하였어도 예외 처리되지 않습니다.다만, 공지 이전의 위반 건수에 대해서는 해당 라이브와 숏클립의 노출 제한만 적용되며, 송출 권한 제한 페널티에 영향을 주지 않습니다. 특수 식품군 및 의료기기 관련 심의 필수 진행 안내는 다양한 영역에서 진행되었습니다. (i) 스마트스토어센터 공지사항(ii) 쇼핑라이브 스튜디오 앱 시작하기 버튼 상단 배너 게시 (1개월 이상)(iii) 네이버 비즈니스 스쿨 교육(iv) 쇼핑윈도 공식블로그와 쇼핑 파트너 공식 블로그 게시물(v) 심의 대상 상품 연동 시마다 주의 안내 팝업 알림해당 규제는 네이버 쇼핑라이브 서비스 시작 이전부터 제정/실행된 내용이므로 관련 사업을 운영하시는 판매자님께서 자체적으로 숙지 및 준수해주셔야 하는 부분입니다.건강기능식품 등 심의 대상 라이브 진행시 일반식품 함께 연동 가능한가요?네, 가능합니다. 협회에 심의 통과 받은 후 네이버폼을 통해 검수 완료된 라이브에 일반 식품 또는 상품 연동은 가능합니다. 다만 반대로, 일반 상품 판매 라이브에 심의 대상 상품을 추가 연동하려면 심의 진행이 필수입니다.  단. 일반식품을 건강기능식품과 함께 판매하여 해당 일반식품도 기능성 식품으로 오인되도록 하는 목적이 있는 경우, 해당 식품의 효과를 과장 시키려는 목적의 연동은 불가능합니다. 예시 >- 일반식품인 A를 건기식인 B와 함께 먹으면 기능적으로 좋은것 처럼 보이게 하거나 멘션하기 위해 함께 연동하여 판매 불가- 일반식품인 A를 건기식 상품들 중 하나로 보이게 하기 위해 함께 연동 불가숏클립도 심의를 받아야하나요?네, 심의 대상 상품이 연동되어있거나 숏클립의 내용이 심의 대상 상품에 관한것이라면 모두 심의 대상입니다. 라이브와는 영상 길이만 다를뿐 숏클립도 별개의 광고건입니다. 라이브 심의를 받았다 하더라도, 라이브 심의통과서 내용에 숏클립 부분의 내용이 미포함되어있다면추가로 심의 받아야합니다. 심의 대상 상품을 판매/연동하지 않고 사은품으로만 제공하면 심의를 받지 않아도 되나요?심의 대상 상품을 사은품으로 제공할 경우에도 관련하여 판매 면허를 보유하고 있어야 합니다. 사은품으로만 제공하더라도 단순 제품명만 발언하는것이 아닌 경우, 제품에 대해 설명이 조금이라도 진행되는 경우 심의 진행 부탁드립니다. 예) (일반 식품 판매 중 건기식 사은품 제공 상황 가정)사은품으로 ___제품명____ 도 보내드려요!  >  심의 대상 X사은품으로 ____성능, 복용 사유, 효과가 있는_____, _______제품명______도 보내드려요  >  심의 대상 O심의 대상 상품이 아닌데 심의 관련 팝업 뜨는 경우는 왜그런가요?심의 대상 상품이 아닌데 심의 관련 내용의 팝업이 뜨는 경우 동의 누르고 그냥 진행하시면됩니다. 같은 카테고리, 같은 상품군이라도 심의 대상 상품인 경우와, 아닌 경우가 있습니다. 네이버 쇼핑에서는 카테고리 단위로만 상품이 나뉘어 있고, 단건의 상품이 심의 대상인지 아닌지 까지 나뉘어있지 않습니다. 하여 심의 대상 상품이 포함된 카테고리에 같이 속해있는 상품인 경우 심의 관련 팝업이 뜨고 있습니다. 예시> 일반 스타킹과 의료용 압박 스타킹 모두 [패션>스타킹] 카테고리에 있으며, 일반 스타킹과 의료용 압박 스타킹이 별도 카테고리로 분류되어있지 않으므로 해당 카테고리 전체에 심의 관련 안내 진행 중 네이버폼에 심의통과서를 사전 제출 하지 않아 라이브가 미노출 처리되었거나 패널티 받은 경우 어떻게 하나요?STEP 1 . 보유하고 계신 심의통과서를 네이버폼에 제출해주세요STEP 2. 검수 통과 메일을 받으면 STEP 3. (1) 사전 광고 심의 통과서를 제출한 경우: 최대 1 영업일 이내 소명 처리가 자동 진행됩니다.(2) 사후에 심의를 받은 경우: 사후 심의를 받았다는 기록은 남게되나, 현행 규제상 사후 심의란 존재하지 않으며 여전히 위법함이 성립됩니다. 그러므로 라이브 미노출 유지되며 송출권한 제한에 대한 소명 처리가 진행되지 않습니다. 고객센터 1:1 문의하기로  i. 사전심의를 이행하지 않은 사유와 ii. 구체적인 향후 개선방안이 포함된 소명서를 제출할 경우 담당자 추가 검토 신청이 가능합니다. 소명 신청은 판매자의 자유이나 신청을 제출하여도 결과에 대해서는 사전 개런티되지 않으며 자료에 따라 최종 반려될 수 있습니다. 위 단계를 먼저 이행하지 않을 경우 고객센터로 소명을 제출하셔도 검토가 시작되지 않습니다. 위 STEP 3 까지 완료하신 이후, 고객센터 1:1 문의하기로  i. 사전심의를 이행하지 않은 사유와 ii. 구체적인 향후 개선방안이 포함된 소명서를 제출할 경우 담당자 추가 검토 신청이 가능합니다.심의통과서 검수 통과 메일을 받았는데 라이브가 여전히 미노출 상태인 경우심의 검수 진행 시 판매자님께 제일 먼저 심의 검수 결과를 메일을 통해 안내드리고 있습니다. 검수 통과 메일을 받았다고 해서 자동으로 라이브 또는 채널 제한의 상태 전환이 되는것은 아닙니다. 당일 심의 진행된 결과는 오후 6시에 소명 처리 부서로 일괄 이관되며, 그 이후 소명 처리가 순차 적용됩니다. 만약 통과 메일을 받은 그 다음날 오후 6시까지 상태 전환 메일을 받아보지 못한 경우, 고객센터 1:1 문의하기를 통해 진행 상황 확인 요청이 가능합니다.위와 같은 지연 발생을 원치 않으시는 판매자님께서는라이브가 미노출 처리되기 전, 라이브 진행 사전에 충분한 기한을 두고 심의 제출 프로세스 이행 부탁드립니다. 심의 미이행에 따른 패널티는 어떻게 되나요?위반 라이브 1건 당 위반 행위 1회차로 간주됩니다. 위반 라이브 진행 1건 : 해당 라이브 미노출 + 1일 송출 제한 및 경고2건 : 해당 라이브 미노출 + 1달 송출 제한 및 경고3건 : 해당 라이브 미노출 + 영구 송출 제한[심의] 의료기기 제조업 허가증이 있다면 판매업 면허를 제출하지 않아도 되나요?아니요, 의료기기 제조업 허가증이 있더라도 판매업 면허도 제출해야 합니다. 의료기기법에 따르면 아래와 같이 정하고 있습니다. ② 다음 각 호의 어느 하나에 해당하는 경우에는 제1항에 따른 신고를 하지 아니할 수 있다.1. 의료기기의 제조업자나 수입업자가 그 제조하거나 수입한 의료기기를 의료기기 취급자에게 판매하거나 임대하는 경우즉, 제조업자나 수입업자는 '의료기기 취급자'에게 판매하거나 임대 할 때만 판매업 등록을 하지 않아도 됩니다. 일반 소비자 대상인 쇼핑라이브 진행을 위해서는 판매업 면허 취득 및 제출이 필수입니다. 심의통과서 제출 시 추가 자료 제출은 어떻게 하나요?네이버폼으로 검수 신청을 하며 용량 초과 또는 기타 문제 발생으로 자료를 더이상 첨부하지 못하는 경우, 아래 메일 주소로 나머지 자료 추가 제출이 가능합니다.  ▷ 메일 주소 : dl_navershoppinglive.healthy@navercorp.com※참고.· 검수 신청이 되지 않은 경우 추가 자료를 일절 보지 않습니다. · 반려 또는 통과로 결과를 이미 받은건에 대해서는 메일로 추가 회신하여도 읽지 않습니다. 결과가 이미 나온건에 대한 추가 검토가 필요하신 경우 네이버폼을 통해 재검수 신청 부탁드립니다.  \n",
      "\n",
      "\n",
      "위 도움말이 도움이 되었나요?\n",
      "\n",
      "\n",
      "별점1점\n",
      "\n",
      "별점2점\n",
      "\n",
      "별점3점\n",
      "\n",
      "별점4점\n",
      "\n",
      "별점5점\n",
      "\n",
      "\n",
      "\n",
      "소중한 의견을 남겨주시면 보완하도록 노력하겠습니다.\n",
      "\n",
      "보내기\n",
      "\n",
      "\n",
      "\n",
      "도움말 닫기...\n"
     ]
    }
   ],
   "source": [
    "# 이상치 필터링\n",
    "length = 1000\n",
    "outliers = df[answer_length_words >= length]\n",
    "print(f\"답변 길이 {length} 이상 FAQ 수: {len(outliers)}\")\n",
    "print(\"\\n이상치 FAQ 상세:\")\n",
    "for idx, row in outliers.iterrows():\n",
    "    print(f\"\\nIndex: {idx}\")\n",
    "    print(f\"질문: {row['question']}\")\n",
    "    print(f\"답변 길이: {row.apply(lambda x: len(str(x).split()))} 단어\")\n",
    "    print(f\"답변: {row['answer']}...\")"
   ]
  },
  {
   "cell_type": "markdown",
   "id": "f4497fb2",
   "metadata": {},
   "source": [
    "## 질문 [카테고리] 분리"
   ]
  },
  {
   "cell_type": "code",
   "execution_count": 10,
   "id": "82c532e6",
   "metadata": {},
   "outputs": [
    {
     "name": "stdout",
     "output_type": "stream",
     "text": [
      "총 카테고리 수: 106\n",
      "카테고리 없는 질문 수: 1286\n",
      "\n",
      "상위 5개 카테고리 분포:\n",
      "category\n",
      "             1286\n",
      "스마트스토어         81\n",
      "풀필먼트           80\n",
      "커머스솔루션         62\n",
      "원쁠딜            56\n",
      "쇼핑라이브 숏클립      56\n",
      "Name: count, dtype: int64\n"
     ]
    }
   ],
   "source": [
    "# 카테고리 추출 함수\n",
    "def extract_category(question: str) -> tuple:\n",
    "    category = re.match(r\"\\[(.*?)\\]\", question)\n",
    "    category = category.group(1) if category else \"\"\n",
    "    question = re.sub(r\"\\[.*?\\]\", \"\", question).strip()\n",
    "    return category, question\n",
    "\n",
    "\n",
    "# 카테고리 분리\n",
    "df[[\"category\", \"question\"]] = df[\"question\"].apply(lambda x: pd.Series(extract_category(x)))\n",
    "\n",
    "# 개수 및 분포 분석\n",
    "category_counts = df[\"category\"].value_counts()\n",
    "\n",
    "print(f\"총 카테고리 수: {len(category_counts)}\")\n",
    "print(f\"카테고리 없는 질문 수: {(df['category'] == '').sum()}\")\n",
    "print(\"\\n상위 5개 카테고리 분포:\")\n",
    "print(category_counts.head(6))"
   ]
  },
  {
   "cell_type": "markdown",
   "id": "5f38ae16",
   "metadata": {},
   "source": [
    "## 답변에서 관련 질문 추출"
   ]
  },
  {
   "cell_type": "code",
   "execution_count": 11,
   "id": "b7db8155",
   "metadata": {},
   "outputs": [
    {
     "name": "stdout",
     "output_type": "stream",
     "text": [
      "관련 질문 포함 FAQ 비율: 12.55%, 개수: 341\n",
      "샘플 질문: ['스마트스토어 로그인ID(매니저)를 추가하거나 변경할 수 없나요?', '네이버 커머스 ID 전환 이후, 이전 아이디로 로그인이 불가한가요?', '네이버 커머스 ID 전환 후 로그인이 되지 않아요.']\n"
     ]
    }
   ],
   "source": [
    "def extract_related_questions(answer: str) -> list:\n",
    "    match = re.search(r\"관련 도움말/키워드([\\s\\S]*?)도움말 닫기\", answer)\n",
    "    if match:\n",
    "        return [line.strip() for line in match.group(1).split(\"\\n\") if line.strip()]\n",
    "    return []\n",
    "\n",
    "\n",
    "df[\"related_questions\"] = df[\"answer\"].apply(extract_related_questions)\n",
    "len_rq = df[\"related_questions\"].apply(len) > 0\n",
    "print(f\"관련 질문 포함 FAQ 비율: {len_rq.mean():.2%}, 개수: {len_rq.sum()}\")\n",
    "print(\"샘플 질문:\", df[\"related_questions\"].iloc[0])"
   ]
  },
  {
   "cell_type": "markdown",
   "id": "ce3a4f3b",
   "metadata": {},
   "source": [
    "## 답변 불필요 텍스트 제거"
   ]
  },
  {
   "cell_type": "code",
   "execution_count": 12,
   "id": "4bd2b8a5",
   "metadata": {},
   "outputs": [
    {
     "name": "stdout",
     "output_type": "stream",
     "text": [
      "네이버 커머스 ID 하나로 스마트스토어센터와 같은 네이버의 다양한 커머스 서비스를 편리하게 이용하실 수 있습니다.네이버 커머스 ID가 없으시다면 [가입하기] 버튼을 통해 회원가입해 주세요.           1. '네이버ID' 로 네이버 커머스 ID 가입하기1) [네이버 아이디로 가입하기] 버튼을 눌러서 네이버 로그인 해 주세요.2) 연락가능한 휴대폰번호를 입력하시고 인증하신 후 개인정보 수집동의를 체크 하여 [가입] 버튼을 눌러주세요. 3) 네이버 커머스 ID 회원가입이 완료되어 해당 네이버ID 로 스마트스토어센터 서비스 가입을 하실 수 있습니다. 이 후 스마트스토어센터 로그인 시에 [네이버 아이디로 로그인] 버튼을 눌러서 네이버 로그인을 하실 수 있습니다. 2. '이메일 아이디'로 네이버 커머스 ID 가입하기 1) [이메일 아이디로 가입하기] 버튼을 눌러서 사용할 ID를 입력해 주세요.! 중요. 로그인 ID는 \"실 사용중인 이메일주소\"로 기재하셔야 합니다. (예 : abc@naver.com)2) 연락가능한 휴대폰번호와 이메일주소를 입력하시고 인증하신 후 개인정보 수집동의를 체크 하여 [가입] 버튼을 눌러주세요.3) 네이버 커머스 ID 회원가입이 완료되어 해당 이메일 아이디로 스마트스토어센터 서비스 가입을 하실 수 있습니다.이 후 스마트스토어센터 로그인 시에 해당 이메일 아이디와 비밀번호를 입력하여 로그인을 하실 수 있습니다. ※ 참고. 로그인 ID 계정 대표자와 사업자번호 대표자 동일여부는 체크하지 않습니다. (대표자가 상이해도 가입 진행 가능합니다.)\n"
     ]
    }
   ],
   "source": [
    "def answer_meta(answer: str) -> str:\n",
    "    \"\"\"답변에서 '위 도움말이 도움이 되었나요?' 이후 제거\"\"\"\n",
    "    clean_text = re.split(r\"위 도움말이 도움이 되었나요\\?\", answer)[0].strip()\n",
    "    return clean_text\n",
    "\n",
    "\n",
    "df[\"answer\"] = df[\"answer\"].apply(answer_meta)\n",
    "print(df[\"answer\"].iloc[0])"
   ]
  },
  {
   "cell_type": "markdown",
   "id": "473d0f59",
   "metadata": {},
   "source": [
    "## 특수문자 확인"
   ]
  },
  {
   "cell_type": "code",
   "execution_count": 13,
   "id": "26e7781d",
   "metadata": {},
   "outputs": [
    {
     "data": {
      "text/plain": [
       "'네이버 커머스 ID 하나로 스마트스토어센터와 같은 네이버의 다양한 커머스 서비스를 편리하게 이용하실 수 있습니다.네이버 커머스 ID가 없으시다면 [가입하기] 버튼을 통해 회원가입해 주세요.\\xa0\\xa0 \\xa0 \\xa0 \\xa0 \\xa0\\xa01. \\'네이버ID\\' 로 네이버 커머스 ID 가입하기1) [네이버 아이디로 가입하기] 버튼을 눌러서 네이버 로그인 해 주세요.2) 연락가능한 휴대폰번호를 입력하시고 인증하신 후 개인정보 수집동의를 체크 하여 [가입] 버튼을 눌러주세요.\\xa03) 네이버 커머스 ID 회원가입이 완료되어 해당 네이버ID 로 스마트스토어센터 서비스 가입을 하실 수 있습니다.\\xa0이 후 스마트스토어센터 로그인 시에 [네이버 아이디로 로그인] 버튼을 눌러서 네이버 로그인을 하실 수 있습니다.\\xa02. \\'이메일 아이디\\'로 네이버 커머스 ID 가입하기\\xa01) [이메일 아이디로 가입하기] 버튼을 눌러서 사용할 ID를 입력해 주세요.! 중요. 로그인 ID는 \"실 사용중인 이메일주소\"로 기재하셔야 합니다. (예 : abc@naver.com)2) 연락가능한 휴대폰번호와 이메일주소를 입력하시고 인증하신 후 개인정보 수집동의를 체크 하여 [가입] 버튼을 눌러주세요.3) 네이버 커머스 ID 회원가입이 완료되어 해당 이메일 아이디로 스마트스토어센터 서비스 가입을 하실 수 있습니다.이 후 스마트스토어센터 로그인 시에 해당 이메일 아이디와 비밀번호를 입력하여 로그인을 하실 수 있습니다.\\xa0※ 참고. 로그인 ID 계정 대표자와 사업자번호 대표자 동일여부는 체크하지 않습니다. (대표자가 상이해도 가입 진행 가능합니다.)'"
      ]
     },
     "execution_count": 13,
     "metadata": {},
     "output_type": "execute_result"
    }
   ],
   "source": [
    "df[\"answer\"][0]"
   ]
  },
  {
   "cell_type": "code",
   "execution_count": 14,
   "id": "773155d6",
   "metadata": {},
   "outputs": [
    {
     "name": "stdout",
     "output_type": "stream",
     "text": [
      "\n",
      "질문 내 특수문자 포함 비율: 96.25%\n",
      "답변 내 특수문자 포함 비율: 100.00%\n",
      "\n",
      "질문 특수문자 종류 및 개수:\n",
      "문자: '?', 개수: 2149\n",
      "문자: \"'\", 개수: 730\n",
      "문자: '.', 개수: 721\n",
      "문자: ',', 개수: 291\n",
      "문자: '(', 개수: 286\n",
      "문자: ')', 개수: 286\n",
      "문자: '/', 개수: 212\n",
      "문자: '\"', 개수: 74\n",
      "문자: '★', 개수: 44\n",
      "문자: '+', 개수: 18\n",
      "문자: '>', 개수: 15\n",
      "문자: '%', 개수: 10\n",
      "문자: '’', 개수: 6\n",
      "문자: '\\u200b', 개수: 5\n",
      "문자: '-', 개수: 5\n",
      "문자: '‘', 개수: 4\n",
      "문자: '&', 개수: 3\n",
      "문자: '!', 개수: 2\n",
      "문자: '↔', 개수: 2\n",
      "문자: '~', 개수: 2\n",
      "문자: '@', 개수: 2\n",
      "문자: '·', 개수: 1\n",
      "문자: '→', 개수: 1\n",
      "문자: '=', 개수: 1\n",
      "문자: '“', 개수: 1\n",
      "문자: ':', 개수: 1\n",
      "\n",
      "답변 특수문자 종류 및 개수:\n",
      "문자: '.', 개수: 18121\n",
      "문자: ',', 개수: 9724\n",
      "문자: \"'\", 개수: 7964\n",
      "문자: ')', 개수: 6735\n",
      "문자: '(', 개수: 5448\n",
      "문자: '/', 개수: 4065\n",
      "문자: '·', 개수: 3605\n",
      "문자: '>', 개수: 2859\n",
      "문자: ']', 개수: 2621\n",
      "문자: '[', 개수: 2619\n",
      "문자: ':', 개수: 2098\n",
      "문자: '※', 개수: 1471\n",
      "문자: '-', 개수: 1458\n",
      "문자: '\"', 개수: 987\n",
      "문자: '》', 개수: 668\n",
      "문자: '+', 개수: 652\n",
      "문자: '~', 개수: 542\n",
      "문자: '\\u200b', 개수: 513\n",
      "문자: '%', 개수: 408\n",
      "문자: '!', 개수: 334\n",
      "문자: '?', 개수: 312\n",
      "문자: '=', 개수: 223\n",
      "문자: '■', 개수: 189\n",
      "문자: '‘', 개수: 182\n",
      "문자: '&', 개수: 180\n",
      "문자: '’', 개수: 180\n",
      "문자: '→', 개수: 147\n",
      "문자: '☞', 개수: 128\n",
      "문자: '\\ufeff', 개수: 110\n",
      "문자: '<', 개수: 104\n",
      "문자: '*', 개수: 67\n",
      "문자: '@', 개수: 66\n",
      "문자: '▶', 개수: 31\n",
      "문자: '“', 개수: 23\n",
      "문자: '”', 개수: 21\n",
      "문자: '≫', 개수: 20\n",
      "문자: '▷', 개수: 19\n",
      "문자: '{', 개수: 17\n",
      "문자: '}', 개수: 17\n",
      "문자: '–', 개수: 10\n",
      "문자: '▲', 개수: 10\n",
      "문자: '≡', 개수: 9\n",
      "문자: '\\\\', 개수: 9\n",
      "문자: '↔', 개수: 7\n",
      "문자: '└', 개수: 6\n",
      "문자: '□', 개수: 4\n",
      "문자: ';', 개수: 4\n",
      "문자: '▼', 개수: 4\n",
      "문자: 'ⓐ', 개수: 4\n",
      "문자: '…', 개수: 3\n",
      "문자: '「', 개수: 3\n",
      "문자: '」', 개수: 3\n",
      "문자: '★', 개수: 3\n",
      "문자: '＋', 개수: 3\n",
      "문자: '《', 개수: 3\n",
      "문자: '⒜', 개수: 3\n",
      "문자: '⒝', 개수: 3\n",
      "문자: '✓', 개수: 3\n",
      "문자: '×', 개수: 2\n",
      "문자: 'ⓘ', 개수: 2\n",
      "문자: '≤', 개수: 2\n",
      "문자: '●', 개수: 2\n",
      "문자: '≥', 개수: 2\n",
      "문자: '⒞', 개수: 2\n",
      "문자: 'ⓑ', 개수: 2\n",
      "문자: '^', 개수: 2\n",
      "문자: '㈜', 개수: 2\n",
      "문자: 'ⓛ', 개수: 1\n",
      "문자: '≠', 개수: 1\n",
      "문자: '#', 개수: 1\n",
      "문자: '∙', 개수: 1\n",
      "문자: '『', 개수: 1\n",
      "문자: '』', 개수: 1\n",
      "문자: '㎏', 개수: 1\n",
      "문자: '÷', 개수: 1\n"
     ]
    }
   ],
   "source": [
    "# 특수문자 추출 함수\n",
    "def extract_special_chars(text: str) -> list:\n",
    "    # 영숫자, 한글, 공백 제외\n",
    "    pattern = r\"[^\\w\\s\\uAC00-\\uD7A3]\"\n",
    "    return re.findall(pattern, text)\n",
    "\n",
    "\n",
    "# 질문과 답변에서 특수문자 분석\n",
    "df[\"question_special_chars\"] = df[\"question\"].apply(extract_special_chars)\n",
    "df[\"answer_special_chars\"] = df[\"answer\"].apply(extract_special_chars)\n",
    "\n",
    "# 특수문자 종류 및 개수\n",
    "question_special_counts = Counter([char for chars in df[\"question_special_chars\"] for char in chars])\n",
    "answer_special_counts = Counter([char for chars in df[\"answer_special_chars\"] for char in chars])\n",
    "\n",
    "# 특수문자 포함 비율\n",
    "question_special_ratio = (df[\"question_special_chars\"].apply(len) > 0).mean()\n",
    "answer_special_ratio = (df[\"answer_special_chars\"].apply(len) > 0).mean()\n",
    "\n",
    "print(f\"\\n질문 내 특수문자 포함 비율: {question_special_ratio:.2%}\")\n",
    "print(f\"답변 내 특수문자 포함 비율: {answer_special_ratio:.2%}\")\n",
    "\n",
    "print(\"\\n질문 특수문자 종류 및 개수:\")\n",
    "for char, count in question_special_counts.most_common():\n",
    "    print(f\"문자: {repr(char)}, 개수: {count}\")\n",
    "\n",
    "print(\"\\n답변 특수문자 종류 및 개수:\")\n",
    "for char, count in answer_special_counts.most_common():\n",
    "    print(f\"문자: {repr(char)}, 개수: {count}\")"
   ]
  },
  {
   "cell_type": "code",
   "execution_count": 15,
   "id": "61854ed8",
   "metadata": {},
   "outputs": [
    {
     "name": "stdout",
     "output_type": "stream",
     "text": [
      "\n",
      "특수문자 포함 질문 샘플 (최대 5개):\n",
      "질문: 스마트스토어센터 회원가입은 어떻게 하나요? (ID만들기)\n",
      "특수문자: {'(', '?', ')'}\n",
      "질문: 스마트스토어 판매자 유형별 필요한 서류가 어떻게 되나요?\n",
      "특수문자: {'?'}\n",
      "질문: 가입 신청을 했습니다. 심사 결과는 어떻게 확인하나요?\n",
      "특수문자: {'?', '.'}\n",
      "질문: 네이버 쇼핑윈도 노출 절차는 어떻게 되나요?\n",
      "특수문자: {'?'}\n",
      "질문: 국내 사업자로 가입하려면 어떤 서류가 필요한가요?\n",
      "특수문자: {'?'}\n",
      "\n",
      "특수문자 포함 답변 샘플 (최대 5개):\n",
      "답변: 네이버 커머스 ID 하나로 스마트스토어센터와 같은 네이버의 다양한 커머스 서비스를 편리하게 이용하실 수 있습니다.네이버 커머스 ID가 없으시다면 [가입하기] 버튼을 통해 회원가입해 주세요.           1. '네이버ID' 로 네이버 커머스 ID 가입하기1) [네이버 아이디로 가입하기] 버튼을 눌러서 네이버 로그인 해 주세요.2) 연락가능한 휴대폰번호를 입력하시고 인증하신 후 개인정보 수집동의를 체크 하여 [가입] 버튼을 눌러주세요. 3) 네이버 커머스 ID 회원가입이 완료되어 해당 네이버ID 로 스마트스토어센터 서비스 가입을 하실 수 있습니다. 이 후 스마트스토어센터 로그인 시에 [네이버 아이디로 로그인] 버튼을 눌러서 네이버 로그인을 하실 수 있습니다. 2. '이메일 아이디'로 네이버 커머스 ID 가입하기 1) [이메일 아이디로 가입하기] 버튼을 눌러서 사용할 ID를 입력해 주세요.! 중요. 로그인 ID는 \"실 사용중인 이메일주소\"로 기재하셔야 합니다. (예 : abc@naver.com)2) 연락가능한 휴대폰번호와 이메일주소를 입력하시고 인증하신 후 개인정보 수집동의를 체크 하여 [가입] 버튼을 눌러주세요.3) 네이버 커머스 ID 회원가입이 완료되어 해당 이메일 아이디로 스마트스토어센터 서비스 가입을 하실 수 있습니다.이 후 스마트스토어센터 로그인 시에 해당 이메일 아이디와 비밀번호를 입력하여 로그인을 하실 수 있습니다. ※ 참고. 로그인 ID 계정 대표자와 사업자번호 대표자 동일여부는 체크하지 않습니다. (대표자가 상이해도 가입 진행 가능합니다.)\n",
      "특수문자: {'※', '[', ')', '!', ']', '(', '@', \"'\", '\"', ':', '.'}\n",
      "답변: 스마트스토어 판매 회원 분류는 아래와 같으며 반드시 모든 서류를 제출해 주셔야 가입이 가능합니다. 가입 서류는 가입 단계에서 업로드 가능하며, 가입 신청 시 서류 준비가 되지 않은 경우 가입 완료 후 [판매자정보 > 심사내역 조회] 메뉴에서 업로드 가능합니다.사업자 등록증의 경우 고객확인제도(AML)를 위한 최신 사업자의 정보를 확인하기 위해 최근 1년 이내 발급분으로 서류 접수받고 있습니다.   판매회원분류 가입 시 필요 서류 국내 개인일반  서류 불필요법정 미성년자(만 19세 미만) 법정대리인 인감증명서 사본 1부 (최근 3개월 이내 발급 분, 생년월일+성별 구분 제외 마스킹 필요) 가족관계증명서 사본 1부 (또는 법정대리임을 증명할 서류) 스마트스토어 법정대리인 동의서 사본 1부 (판매회원 ID 필수 기재) ※ 참고.   · 법정대리인 인감증명서 제출이 어려울 경우 법정대리인 본인서명사실확인서로 대체 가능 국내 사업자 법정 미성년자(만 19세 미만)  사업자 등록증 사본 1부 (1년 이내 발급분) 대표자(또는 사업자) 명의 통장 사본 1부  대표자 인감증명서 사본 1부 (3개월 이내 발급분, 생년월일+성별 구분 제외 마스킹 필요) 대표자(또는 사업자) 명의 통장 사본 1부 ※ 참고.  · 법정 미성년자 대표자여도 이미 사업자등록증 발급당시 법정대리인 확인 후 발급됨으로    법적대리인의 동의서류는 별도 받지 않음 · 예금주명이 대표자명 또는 사업자등록증의 상호명과 동일할 경우 통장사본 생략 가능 · 공동대표의 경우 대표 대표자가 예금주명에 있는 경우 통장 사본 생략 가능 · 대표자 본인 인감증명서 제출이 필요하며 법적대리인 인감증명서 제출로는 가입 심사 불가능 · 대표자 인감증명서는 '본인서명사실확인서' 사본으로 대체 접수 가능  · 대표자 본인명의 휴대폰 인증시 '대표자 인감증명서'제출 생략 가능 간이/개인사업자 사업자 등록증 사본 1부 (1년 이내 발급분) 대표자 인감증명서 사본 1부 (3개월 이내 발급분, 생년월일+성별 구분 제외 마스킹 필요) 대표자(또는 사업자) 명의 통장 사본 1부 ※ 참고. · 예금주명이 대표자명 또는 사업자등록증의 상호명과 동일할 경우 통장사본 생략 가능 · 공동대표의 경우 대표 대표자가 예금주명에 있는 경우 통장 사본 생략 가능 · 대표자 인감증명서는 '본인서명사실확인서' 사본으로 대체 접수 가능 법인사업자  사업자 등록증 사본 1부 (1년 이내 발급분)   법인 인감증명서 사본 1부 (3개월 이내 발급분, 생년월일+성별 구분 제외 마스킹 필요) 법인 명의 통장 사본 1부 ※ 참고. · 예금주명이 사업자등록증의 법인 명의(상호명)과 동일한 경우 통장 사본 생략 가능 · 비영리 법인인 경우 법인인감증명서 대신 가입 시 기재한 대표자의 개인인감증명서로 대체 가능 법인 지점사업자 지점 사업자 등록증 사본 1부 (1년 이내 발급분)  법인 인감증명서 사본 1부 (3개월 이내 발급분, 생년월일+성별 구분 제외 마스킹 필요) 지점 명의 통장 사본 1부 해외 사업자   대표자 여권 사본 1부  사업자등록증(미국의 경우 IRS 서류) 사본 1부  사업자 또는 법인 명의 통장(해외계좌 인증 서류 가능) 사본 1부  ※ 참고. 비영어권은 영문번역본과 함께 제출 필수  스마트스토어법정대리인 동의서 사본 1부 다운로드 받기》스마트스토어 통신판매업 신고번호 입력 기준1. 직전년도 구매확정 수 50건 이상 또는 당해년도 1월1일부터 누적 구매확정 수 50건 이상인 경우2. 부가가치세법 제2조 제4호의 간이과세자에 해당되지 않을 경우(부가가치세법 제2조 제4호)판매자유형 개인판매자 (개인판매회원)간이사업자개인사업자 (일반사업자)법인사업자  사업자 신고 기준(복수 계정인 경우 총 합) 직전년도 누적 판매금액 4,800만원 이상 또는당해년도 1월1일부터 누적 판매금액 4,400만원 이상 -통신판매업 신고번호 입력기준(복수 계정인 경우 총 합)직전년도 구매확정 수 50건 이상 또는 당해년도 1월1일부터 누적 구매확정 수 50건 이상직전년도 누적 판매 금액 8,000만원 이상 또는 당해년도 1월1일부터 판매 금액 8,000만원 이상  직전 년도 구매확정 수 50건 이상 또는 당해년도 1월1일부터 누적 구매확정 수 50건 이상 기준 초과 시 안내 사업자 전환 안내(로그인 팝업 알림/EMS 발송)통신판매업 미신고 안내(로그인 팝업 알림/EMS 발송) 매월 2일마다 안내 누적 판매금액 집계 기준(판매자등급 기준과 동일)구매확정 건의 상품주문번호 단위 결제금액 - 직권취소된 상품주문번호의 결제금액(조합형 옵션/추가 상품 금액 포함, 배송비는 판매금액에 포함되지 않음) 누적건수 집계 기준(판매자등급 기준과 동일)상품주문번호 단위 구매확정 건 - 직권취소 건 (일반 주문건만 포함되며, 추가상품/배송비는 판매건수에 포함되지 않음)※ 참고.  · 통신판매업 신고번호 입력 기준에 해당할 경우 통신판매업 신고 완료 후 진행 바랍니다. · 통신판매업신고증 발급을 위한 '구매안전서비스 이용확인증' 출력은 [판매자정보 > 판매자 정보] 메뉴 우측 상단 '구매안전서비스 이용확인증'버튼을 통해 진행 가능합니다. · 신규 가입 시 공정거래위원회에서 사업자 정보로 정상 조회가 가능한 경우 통신판매업 신고 번호 기재하여 가입이 진행됩니다.  · 페이지가 여러 장인 서류는 모든 페이지를 접수해 주셔야 하며, 발급일자가 모두 동일해야 합니다. · 사업자등록증과 동일하게 정보가 기재된 사업자등록증명으로 대체가 가능합니다. 다만, 최근 1년 이내 발급한 서류로 제출 바랍니다. · 대표자 인감증명서는 '본인서명사실확인서' 사본으로 대체 접수 가능합니다.  · 대표자 명의로 개통된 휴대전화로 본인인증을 하시면 인감증명서를 제출하지 않으셔도 됩니다.   · 미성년자 관련 서류 내 법정대리인 인감증명서 제출이 어려울 경우 법정대리인 본인서명사실확인서로 대체 가능합니다.  · 미성년자 사업자로 가입 시 본인인증 수단에서 휴대폰 본인인증으로 안했을 시 미성년자(본인)인감증명서 또는 본인서명사실확인서를 제출해야 됩니다.    다만, 미성년자 본인인감증명서 제출이 어려울 경우 사업자 가입심사 건을 취소하고 재 가입 시 '휴대폰 본인인증'으로 진행 바랍니다.  · 모든 서류 제출 후 3영업일 내 심사가 진행되며 결과는 담당자 메일로 발송됩니다.  · 해외 거주자의 서류는 영문번역본으로 제출해 주셔야 합니다.   발급기관에서 영문번역본으로 받을 경우 별도의 공증은 필요치 않으며, 만약 발급기관에서 영문번역본으로 발급이 어려운 경우 영사관 또는 공증번역기관으로부터 공증을 받은 영문번역본으로 제출해 주셔야 합니다. · 공동대표인 경우 가입 신청 시 대표자명을 모두 입력해야 하며, 각 대표자의 개인인감증명서(법인인 경우 법인인감증명서)를 모두 제출해야 합니다. · 각자대표인 경우 사업자등록증 상의 대표자가 다수여도 한 명의 대표자만 가입이 가능하며, 이때 가입서류 중 인감증명서는 가입 시 기재한 대표자의 서류(법인인 경우 법인인감증명서)만 제출 가능합니다. · 통장사본은 계좌개설확인서 또는 온라인통장표지로 대체 가능합니다.  · 스마트스토어 심사 시 서류 발급 용도에 대해서는 확인하고 있지 않습니다. \"온라인 판매 제출용\"과 같이 실제 필요한 사유에 맞게 기재하여 주시기 바랍니다.   가입 신청을 했습니다. 심사 결과는 어떻게 확인하나요?》\n",
      "특수문자: {'-', '※', '?', '>', '[', '/', ')', '(', ']', \"'\", '\"', ',', '·', '》', '+', '.'}\n",
      "답변: 스마트스토어센터에 로그인하시면 \"팝업\" 또는 [판매자 정보 > 심사내역 조회] 메뉴에서 상세한 정보(제출하신 서류, 보류 사유 등)를 확인할 수 있습니다.가입 완료 전 심사 과정은 총 5개로 노출될 수 있으며, 해당하는 팝업 메시지에 따라 해결방법을 확인 해 주세요.           · 심사 중 : 현재 심사가 진행 중입니다. 영업일 기준 3일 이내에 심사가 완료됩니다. · 심사 중 (서류 미제출) : 필수 서류를 모두 제출하지 않아서 심사가 진행되지 않고 있습니다. 서류를 제출하면 바로 심사가 진행됩니다.  · 심사 중 (서류 통과) : 쇼핑윈도 노출심사 시 서류심사 승인된 상태입니다.  ※ 참고. 1차승인(서류통과) 처리가 완료되면 검수기준에 맞는 상품을 등록해 주셔야 검수가 진행되며, 최종 승인까지 진행됩니다.  · 보류 : 제출하신 서류/정보 중에 부족한 점이 발견되어 가입 심사가 보류되었습니다. 보류 사유를 확인하시고 서류 미비로 보류된 경우, 서류를 재등록하시면 심사가 다시 진행됩니다. · 거부 : 스마트스토어센터 가입이 불가능합니다. 판매자 가입이 '보류' 되었습니다. 왜그런가요?》판매자 가입이 '거부' 되었습니다. 왜그런가요?》          ※ 참고. 혹시, \"팝업\" 메시지를 확인하지 못하셨나요?· [판매자 정보 > 심사내역 조회] 메뉴에서 모든 심사 결과를 확인하실 수 있습니다.· 네이버 스마트스토어 고객센터에서는 고객센터 번호(1588-3819) 이외의 번호로는 연락드리지 않습니다. 스마트스토어 관련 내용으로 그 외 번호로 연락을 받으신 경우는 주의 부탁드립니다.\n",
      "특수문자: {'-', '※', '?', '>', '[', '/', ')', '(', ']', '\"', ':', \"'\", ',', '·', '》', '.'}\n",
      "답변: 네이버 쇼핑 윈도에 입점하기 위해서는, [노출관리 > 쇼핑윈도 노출제안] 을 통해 자세한 조건을 확인할 수 있습니다.아래 패션타운 및 윈도 서비스는 입점 신청 전, self 입점 체크를 통해 입점 가능여부를 확인하실 수 있습니다.패션타운 해외직구 self 입점 체크 바로 가기》패션타운 뷰티 self 입점 체크 바로 가기》패션타운 소호&스트릿윈도 self 입점 체크 바로 가기》  키즈윈도(로드샵) self 입점 체크 바로 가기》키즈윈도(브랜드) self 입점 체크 바로 가기》네이버펫 self 입점 체크 바로 가기》리빙윈도(홈&데코/창작공방/문방구) self 입점 체크 바로 가기》 입점 기준 확인 및 self 체크가 완료되었다면 아래 메뉴를 통해 입점 신청해 주세요.           스마트스토어센터에서 입점 신청하기1) 사업자로 가입한 판매자만 입점이 가능합니다. 2) [노출관리 > 쇼핑윈도 노출제안] 메뉴를 선택하세요.3) \"소호&스트릿/ 뷰티(브랜드 본사, 공식 수입사만 가능)/ 해외직구(해외직구 서비스 지역의 현지 해외 사업자)/    리빙 윈도(리빙 상품군) / 키즈 윈도(유아동) / 플레이 윈도(디지털, 스포츠/레저, 키덜트 상품군) / 아트 윈도(담당자와 사전 협의된 작가, 갤러리) /   네이버 펫 윈도(강아지/고양이 관련 브랜드 본사, 공식 수입사) / 푸드 윈도(산지직송, 지역명물, 간편집밥, 전통주 등 다양한 푸드 상품군)\" 중에서 원하는 윈도를 선택해 주세요.4) 각 윈도 특성에 따라 가입 조건이 있습니다. 하단의 가입조건에 따라 필요한 정보를 입력해 주세요.  정보 입력 후 \"채널 추가 요청\"을 하시면 심사 담당자를 통해 영업일 3일 이내로 심사 결과를 전달해 드립니다.\n",
      "특수문자: {'>', '[', '/', '&', ')', '(', ']', '\"', ',', '》', '.'}\n",
      "답변: 국내 간이/개인(일반)/법인 사업자'로 가입하기 위해서는 아래의 서류를 사전에 준비해 주셔야 합니다.가입 서류는 가입 단계에서 업로드 가능하며, 가입 신청 시 서류 준비가 되지 않은 경우 가입 완료 후 [판매자정보 > 심사내역 조회] 메뉴에서 업로드 가능합니다. (Fax 불가) 사업자 등록증의 경우 고객확인제도(AML)를 위한 최신 사업자의 정보를 확인하기 위해 최근 1년이내 발급분으로 서류 접수받고 있습니다.  발급일로부터 1년이 경과되었다면 재발급 받으신 다음 제출해 주시기 바랍니다. (사업자등록증명원으로 대체 가능) [판매자 유형별 필요 서류]  판매회원분류 가입 시 필요 서류국내 개인일반 서류 불필요 법정 미성년자(만 14세~ 만 19세 미만) 법정대리인 인감증명서 사본 1부 (최근 3개월 이내 발급 분, 생년월일+성별 구분 제외 마스킹 필요) 가족관계증명서 사본 1부 (또는 법정대리임을 증명할 서류) 스마트스토어 법정대리인 동의서 사본 1부 (판매회원 ID 필수 기재) 스마트스토어 법정대리인 동의서 사본 1부 다운로드 받기》  ※ 참고.   · 법정대리인 인감증명서 제출이 어려울 경우 법정대리인 본인서명사실확인서로 대체 가능 · 가족관계증명서의 경우 주민번호 뒤 6자리(생년월일+성별 구분 제외) 마스킹 필요(발급일 무관)   국내 사업자법정 미성년자(만 14세~ 만 19세 미만) 사업자 등록증 사본 1부 (1년 이내 발급분) 대표자(또는 사업자) 명의 통장 사본 1부  대표자 인감증명서 사본 1부 (3개월 이내 발급분, 생년월일+성별 구분 제외 마스킹 필요) 대표자(또는 사업자) 명의 통장 사본 1부   ※ 참고.  · 법정 미성년자 대표자여도 이미 사업자등록증 발급당시 법정대리인 확인 후 발급됨으로   스마트스토어 가입시점 법적대리인의 동의서류는 별도 받지 않음 · 예금주명이 대표자명 또는 사업자등록증의 상호명과 동일할 경우 통장사본 생략 가능 · 공동대표의 경우 대표 대표자가 예금주명에 있는 경우 통장 사본 생략 가능 · 대표자 본인 인감증명서 제출이 필요하며 법적대리인 인감증명서 제출로는 가입 심사 불가능  · 대표자 인감증명서는 '본인서명사실확인서' 사본으로 대체 접수 가능  · 대표자 본인명의 휴대폰 인증시 '대표자 인감증명서'제출 생략 가능 간이/개인사업자 사업자 등록증 사본 1부 (1년 이내 발급분) 대표자 인감증명서 사본 1부 (3개월 이내 발급분, 생년월일+성별 구분 제외 마스킹 필요) 대표자(또는 사업자) 명의 통장 사본 1부  ※ 참고. · 예금주명이 대표자명 또는 사업자등록증의 상호명과 동일할 경우 통장사본 생략 가능 · 공동대표의 경우 대표 대표자가 예금주명에 있는 경우 통장 사본 생략 가능 · 대표자 인감증명서는 '본인서명사실확인서' 사본으로 대체 접수 가능  · 대표자 본인명의 휴대폰 인증시 '대표자 인감증명서'제출 생략 가능  법인사업자 사업자 등록증 사본 1부 (1년 이내 발급분)   법인 인감증명서 사본 1부 (3개월 이내 발급분, 생년월일+성별 구분 제외 마스킹 필요) 법인 명의 통장 사본 1부  ※ 참고. · 예금주명이 사업자등록증의 법인 명의(상호명)과 동일한 경우 통장 사본 생략 가능 · 비영리 법인인 경우 법인인감증명서 대신 가입 시 기재한 대표자의 개인인감증명서로 대체 가능법인 지점사업자 지점 사업자 등록증 사본 1부 (1년 이내 발급분)  법인 인감증명서 사본 1부 (3개월 이내 발급분, 생년월일+성별 구분 제외 마스킹 필요) 지점 명의 통장 사본 1부 [통신판매업 신고번호 입력 기준] · 직전년도 주문건 구매확정 수 50건 이상 또는 당해년도 1월1일부터 누적 주문건 구매확정 수 50건 이상인 경우  · 부가가치세법 제2조 제4호의 간이과세자에 해당되지 않을 경우(부가가치세법 제2조 제4호)판매자 유형간이사업자개인사업자(일반사업자) 법인사업자  통신판매업 신고번호 입력기준(복수 계정인 경우 총 합) 직전년도 누적 판매 금액 8,000만원 이상 또는 당해년도 1월1일부터 판매 금액 8,000만원 이상  직전 년도 구매확정 수 50건 이상 또는 당해년도 1월1일부터 누적 구매확정 수 50건 이상※ 참고. · 모든 서류 제출 후 3영업일 이내 심사가 진행되며, 결과는 담당자 메일로 발송됩니다.  · 통신판매업 신고번호 입력 기준에 해당할 경우 통신판매업 신고 완료 후 정보변경 신청 바랍니다. · 통신판매업신고증 발급을 위한 '구매안전서비스 이용확인증' 출력은 스마트스토어 센터 내 [판매자정보 > 판매자 정보] 메뉴 우측 상단 '구매안전서비스 이용확인증'버튼을 통해 진행 가능합니다. · 신규 가입 시 공정거래위원회에서 사업자 정보로 조회가 가능한 경우 통신판매업 신고 번호 기재하여 가입이 진행됩니다. · 페이지가 여러 장인 서류는 모든 페이지를 접수해 주셔야 하며, 발급일자가 모두 동일해야 합니다. · 사업자등록증과 동일하게 정보가 기재된 사업자등록증명으로 대체가 가능하며 최근 1년 이내 발급한 서류로 제출 바랍니다. · 대표자 인감증명서는 '본인서명사실확인서' 사본으로 대체 접수 가능합니다.  · 미성년자 관련 서류 내 법정대리인 인감증명서 제출이 어려울 경우 법정대리인 본인서명사실확인서로 대체 가능합니다.   · 공동대표 인 경우 가입 신청 시 대표자명을 모두 입력해야 하며, 각 대표자의 개인인감증명서(법인인 경우 법인인감증명서)를 모두 제출해야 합니다. · 각자대표 인 경우 사업자등록증 상의 대표자가 다수여도 한 명의 대표자만 가입 가능하며, 이 때 가입서류 중 인감증명서는 가입 시 기재한 대표자의 서류(법인인 경우 법인인감증명서)만 제출 가능합니다. · 인감증명서는 최근 3개월 이내 발급분, 생년월일+성별 구분 제외하고 마스킹하여 제출 바랍니다.\n",
      "특수문자: {'※', '>', '/', '[', ')', '(', ']', '·', \"'\", ',', '~', '》', '+', '.'}\n"
     ]
    }
   ],
   "source": [
    "# 샘플 데이터 (특수문자 포함 질문/답변)\n",
    "print(\"\\n특수문자 포함 질문 샘플 (최대 5개):\")\n",
    "for idx, row in (\n",
    "    df[df[\"question_special_chars\"].apply(len) > 0][[\"question\", \"question_special_chars\"]].head().iterrows()\n",
    "):\n",
    "    print(f\"질문: {row['question']}\\n특수문자: {set(row['question_special_chars'])}\")\n",
    "\n",
    "print(\"\\n특수문자 포함 답변 샘플 (최대 5개):\")\n",
    "for idx, row in df[df[\"answer_special_chars\"].apply(len) > 0][[\"answer\", \"answer_special_chars\"]].head().iterrows():\n",
    "    print(f\"답변: {row['answer']}\\n특수문자: {set(row['answer_special_chars'])}\")\n",
    "\n",
    "df = df.drop(columns=[\"question_special_chars\", \"answer_special_chars\"])"
   ]
  },
  {
   "cell_type": "code",
   "execution_count": 16,
   "id": "3cd09c78",
   "metadata": {},
   "outputs": [
    {
     "data": {
      "image/png": "[encoded data removed]",
      "text/plain": [
       "<Figure size 1200x500 with 2 Axes>"
      ]
     },
     "metadata": {},
     "output_type": "display_data"
    }
   ],
   "source": [
    "plt.figure(figsize=(12, 5))\n",
    "\n",
    "plt.subplot(1, 2, 1)\n",
    "question_top_chars = dict(question_special_counts.most_common(10))\n",
    "plt.bar(question_top_chars.keys(), question_top_chars.values())\n",
    "plt.title(\"질문 내 상위 10개 특수문자 빈도\")\n",
    "plt.xlabel(\"특수문자\")\n",
    "plt.ylabel(\"빈도\")\n",
    "\n",
    "plt.subplot(1, 2, 2)\n",
    "answer_top_chars = dict(answer_special_counts.most_common(10))\n",
    "plt.bar(answer_top_chars.keys(), answer_top_chars.values())\n",
    "plt.title(\"답변 내 상위 10개 특수문자 빈도\")\n",
    "plt.xlabel(\"특수문자\")\n",
    "plt.ylabel(\"빈도\")\n",
    "\n",
    "plt.tight_layout()\n",
    "plt.show()"
   ]
  },
  {
   "cell_type": "markdown",
   "id": "c8aea397",
   "metadata": {},
   "source": [
    "### '\\xa0', '\\u200b', '\\ufeff' 제거"
   ]
  },
  {
   "cell_type": "code",
   "execution_count": 17,
   "id": "4f6fbbd5",
   "metadata": {},
   "outputs": [
    {
     "name": "stdout",
     "output_type": "stream",
     "text": [
      "\\xa0 포함 답변: 2008\n",
      "\\u200b 포함 답변: 227\n",
      "\\ufeff 포함 답변: 90\n"
     ]
    }
   ],
   "source": [
    "print(f\"\\\\xa0 포함 답변: {(df['answer'].str.contains('\\xa0', na=False)).sum()}\")\n",
    "print(f\"\\\\u200b 포함 답변: {(df['answer'].str.contains('\\u200b', na=False)).sum()}\")\n",
    "print(f\"\\\\ufeff 포함 답변: {(df['answer'].str.contains('\\ufeff', na=False)).sum()}\")"
   ]
  },
  {
   "cell_type": "code",
   "execution_count": 18,
   "id": "bca00697",
   "metadata": {},
   "outputs": [
    {
     "name": "stdout",
     "output_type": "stream",
     "text": [
      "네이버 커머스 ID 하나로 스마트스토어센터와 같은 네이버의 다양한 커머스 서비스를 편리하게 이용하실 수 있습니다.네이버 커머스 ID가 없으시다면 [가입하기] 버튼을 통해 회원가입해 주세요. 1. '네이버ID' 로 네이버 커머스 ID 가입하기1) [네이버 아이디로 가입하기] 버튼을 눌러서 네이버 로그인 해 주세요.2) 연락가능한 휴대폰번호를 입력하시고 인증하신 후 개인정보 수집동의를 체크 하여 [가입] 버튼을 눌러주세요. 3) 네이버 커머스 ID 회원가입이 완료되어 해당 네이버ID 로 스마트스토어센터 서비스 가입을 하실 수 있습니다. 이 후 스마트스토어센터 로그인 시에 [네이버 아이디로 로그인] 버튼을 눌러서 네이버 로그인을 하실 수 있습니다. 2. '이메일 아이디'로 네이버 커머스 ID 가입하기 1) [이메일 아이디로 가입하기] 버튼을 눌러서 사용할 ID를 입력해 주세요.! 중요. 로그인 ID는 \"실 사용중인 이메일주소\"로 기재하셔야 합니다. (예 : abc@naver.com)2) 연락가능한 휴대폰번호와 이메일주소를 입력하시고 인증하신 후 개인정보 수집동의를 체크 하여 [가입] 버튼을 눌러주세요.3) 네이버 커머스 ID 회원가입이 완료되어 해당 이메일 아이디로 스마트스토어센터 서비스 가입을 하실 수 있습니다.이 후 스마트스토어센터 로그인 시에 해당 이메일 아이디와 비밀번호를 입력하여 로그인을 하실 수 있습니다. ※ 참고. 로그인 ID 계정 대표자와 사업자번호 대표자 동일여부는 체크하지 않습니다. (대표자가 상이해도 가입 진행 가능합니다.)\n"
     ]
    }
   ],
   "source": [
    "def answer_uni(answer: str) -> str:\n",
    "    # 특수 문자, 다중 공백 정제\n",
    "    clean_text = re.sub(r\"\\xa0|\\u200b|\\ufeff\", \" \", answer).strip()\n",
    "    clean_text = re.sub(r\"\\s+\", \" \", clean_text).strip()\n",
    "    return clean_text\n",
    "\n",
    "\n",
    "df[\"answer\"] = df[\"answer\"].apply(answer_uni)\n",
    "print(df[\"answer\"].iloc[0])"
   ]
  },
  {
   "cell_type": "code",
   "execution_count": 19,
   "id": "8a8702a3",
   "metadata": {},
   "outputs": [
    {
     "name": "stdout",
     "output_type": "stream",
     "text": [
      "\\xa0 포함 답변: 0\n",
      "\\u200b 포함 답변: 0\n",
      "\\ufeff 포함 답변: 0\n"
     ]
    }
   ],
   "source": [
    "print(f\"\\\\xa0 포함 답변: {(df['answer'].str.contains('\\xa0', na=False)).sum()}\")\n",
    "print(f\"\\\\u200b 포함 답변: {(df['answer'].str.contains('\\u200b', na=False)).sum()}\")\n",
    "print(f\"\\\\ufeff 포함 답변: {(df['answer'].str.contains('\\ufeff', na=False)).sum()}\")"
   ]
  },
  {
   "cell_type": "markdown",
   "id": "6178d77f",
   "metadata": {},
   "source": [
    "## 결과 확인 및 저장"
   ]
  },
  {
   "cell_type": "code",
   "execution_count": 20,
   "id": "cf529f2e",
   "metadata": {},
   "outputs": [
    {
     "data": {
      "text/html": [
       "<div>\n",
       "<style scoped>\n",
       "    .dataframe tbody tr th:only-of-type {\n",
       "        vertical-align: middle;\n",
       "    }\n",
       "\n",
       "    .dataframe tbody tr th {\n",
       "        vertical-align: top;\n",
       "    }\n",
       "\n",
       "    .dataframe thead th {\n",
       "        text-align: right;\n",
       "    }\n",
       "</style>\n",
       "<table border=\"1\" class=\"dataframe\">\n",
       "  <thead>\n",
       "    <tr style=\"text-align: right;\">\n",
       "      <th></th>\n",
       "      <th>question</th>\n",
       "      <th>answer</th>\n",
       "      <th>category</th>\n",
       "      <th>related_questions</th>\n",
       "    </tr>\n",
       "  </thead>\n",
       "  <tbody>\n",
       "    <tr>\n",
       "      <th>0</th>\n",
       "      <td>스마트스토어센터 회원가입은 어떻게 하나요? (ID만들기)</td>\n",
       "      <td>네이버 커머스 ID 하나로 스마트스토어센터와 같은 네이버의 다양한 커머스 서비스를 ...</td>\n",
       "      <td>가입절차</td>\n",
       "      <td>[스마트스토어 로그인ID(매니저)를 추가하거나 변경할 수 없나요?, 네이버 커머스 ...</td>\n",
       "    </tr>\n",
       "    <tr>\n",
       "      <th>1</th>\n",
       "      <td>스마트스토어 판매자 유형별 필요한 서류가 어떻게 되나요?</td>\n",
       "      <td>스마트스토어 판매 회원 분류는 아래와 같으며 반드시 모든 서류를 제출해 주셔야 가입...</td>\n",
       "      <td>가입서류</td>\n",
       "      <td>[[고객확인제도] 고객확인제도(AML) 정보 등록 시 어떤 서류를 제출해야 하나요?]</td>\n",
       "    </tr>\n",
       "    <tr>\n",
       "      <th>2</th>\n",
       "      <td>가입 신청을 했습니다. 심사 결과는 어떻게 확인하나요?</td>\n",
       "      <td>스마트스토어센터에 로그인하시면 \"팝업\" 또는 [판매자 정보 &gt; 심사내역 조회] 메뉴...</td>\n",
       "      <td>심사결과</td>\n",
       "      <td>[]</td>\n",
       "    </tr>\n",
       "    <tr>\n",
       "      <th>3</th>\n",
       "      <td>네이버 쇼핑윈도 노출 절차는 어떻게 되나요?</td>\n",
       "      <td>네이버 쇼핑 윈도에 입점하기 위해서는, [노출관리 &gt; 쇼핑윈도 노출제안] 을 통해 ...</td>\n",
       "      <td>가입절차</td>\n",
       "      <td>[]</td>\n",
       "    </tr>\n",
       "    <tr>\n",
       "      <th>4</th>\n",
       "      <td>국내 사업자로 가입하려면 어떤 서류가 필요한가요?</td>\n",
       "      <td>국내 간이/개인(일반)/법인 사업자'로 가입하기 위해서는 아래의 서류를 사전에 준비...</td>\n",
       "      <td>가입서류</td>\n",
       "      <td>[]</td>\n",
       "    </tr>\n",
       "  </tbody>\n",
       "</table>\n",
       "</div>"
      ],
      "text/plain": [
       "                          question  \\\n",
       "0  스마트스토어센터 회원가입은 어떻게 하나요? (ID만들기)   \n",
       "1  스마트스토어 판매자 유형별 필요한 서류가 어떻게 되나요?   \n",
       "2   가입 신청을 했습니다. 심사 결과는 어떻게 확인하나요?   \n",
       "3         네이버 쇼핑윈도 노출 절차는 어떻게 되나요?   \n",
       "4      국내 사업자로 가입하려면 어떤 서류가 필요한가요?   \n",
       "\n",
       "                                              answer category  \\\n",
       "0  네이버 커머스 ID 하나로 스마트스토어센터와 같은 네이버의 다양한 커머스 서비스를 ...     가입절차   \n",
       "1  스마트스토어 판매 회원 분류는 아래와 같으며 반드시 모든 서류를 제출해 주셔야 가입...     가입서류   \n",
       "2  스마트스토어센터에 로그인하시면 \"팝업\" 또는 [판매자 정보 > 심사내역 조회] 메뉴...     심사결과   \n",
       "3  네이버 쇼핑 윈도에 입점하기 위해서는, [노출관리 > 쇼핑윈도 노출제안] 을 통해 ...     가입절차   \n",
       "4  국내 간이/개인(일반)/법인 사업자'로 가입하기 위해서는 아래의 서류를 사전에 준비...     가입서류   \n",
       "\n",
       "                                   related_questions  \n",
       "0  [스마트스토어 로그인ID(매니저)를 추가하거나 변경할 수 없나요?, 네이버 커머스 ...  \n",
       "1    [[고객확인제도] 고객확인제도(AML) 정보 등록 시 어떤 서류를 제출해야 하나요?]  \n",
       "2                                                 []  \n",
       "3                                                 []  \n",
       "4                                                 []  "
      ]
     },
     "execution_count": 20,
     "metadata": {},
     "output_type": "execute_result"
    }
   ],
   "source": [
    "df.head()"
   ]
  },
  {
   "cell_type": "markdown",
   "id": "f0fa7d7a",
   "metadata": {},
   "source": [
    "### 기존 단어 길이"
   ]
  },
  {
   "cell_type": "code",
   "execution_count": 21,
   "id": "eab491c8",
   "metadata": {},
   "outputs": [
    {
     "name": "stdout",
     "output_type": "stream",
     "text": [
      "question 길이(단어) 통계:\n",
      "count    2717.000000\n",
      "mean        7.757085\n",
      "std         2.966410\n",
      "min         2.000000\n",
      "25%         6.000000\n",
      "50%         7.000000\n",
      "75%        10.000000\n",
      "max        21.000000\n",
      "Name: question, dtype: float64\n",
      "\n",
      "answer 길이(단어) 통계:\n",
      "count    2717.000000\n",
      "mean      103.531837\n",
      "std       111.616336\n",
      "min        21.000000\n",
      "25%        48.000000\n",
      "50%        72.000000\n",
      "75%       117.000000\n",
      "max      2063.000000\n",
      "Name: answer, dtype: float64\n"
     ]
    }
   ],
   "source": [
    "print(\"question 길이(단어) 통계:\")\n",
    "print(question_length_words.describe())\n",
    "print(\"\\nanswer 길이(단어) 통계:\")\n",
    "print(answer_length_words.describe())"
   ]
  },
  {
   "cell_type": "markdown",
   "id": "36441719",
   "metadata": {},
   "source": [
    "### 전처리 후 단어 길이"
   ]
  },
  {
   "cell_type": "code",
   "execution_count": 22,
   "id": "1603b434",
   "metadata": {},
   "outputs": [
    {
     "name": "stdout",
     "output_type": "stream",
     "text": [
      "question 길이(단어) 통계:\n",
      "count    2717.000000\n",
      "mean        6.846154\n",
      "std         2.692219\n",
      "min         2.000000\n",
      "25%         5.000000\n",
      "50%         7.000000\n",
      "75%         8.000000\n",
      "max        20.000000\n",
      "Name: question, dtype: float64\n",
      "\n",
      "answer 길이(단어) 통계:\n",
      "count    2717.000000\n",
      "mean       84.768127\n",
      "std       110.573475\n",
      "min         4.000000\n",
      "25%        31.000000\n",
      "50%        54.000000\n",
      "75%        98.000000\n",
      "max      2046.000000\n",
      "Name: answer, dtype: float64\n"
     ]
    }
   ],
   "source": [
    "question_length_words = df[\"question\"].apply(lambda x: len(str(x).split()))\n",
    "answer_length_words = df[\"answer\"].apply(lambda x: len(str(x).split()))\n",
    "question_length_chars = df[\"question\"].apply(len)\n",
    "answer_length_chars = df[\"answer\"].apply(len)\n",
    "\n",
    "print(\"question 길이(단어) 통계:\")\n",
    "print(question_length_words.describe())\n",
    "print(\"\\nanswer 길이(단어) 통계:\")\n",
    "print(answer_length_words.describe())"
   ]
  },
  {
   "cell_type": "markdown",
   "id": "b10d402f",
   "metadata": {},
   "source": [
    "### 데이터 저장"
   ]
  },
  {
   "cell_type": "code",
   "execution_count": 23,
   "id": "7498332b",
   "metadata": {},
   "outputs": [],
   "source": [
    "df.to_pickle(\"../data/cleaned_result.pkl\")"
   ]
  }
 ],
 "metadata": {
  "kernelspec": {
   "display_name": "Python 3",
   "language": "python",
   "name": "python3"
  },
  "language_info": {
   "codemirror_mode": {
    "name": "ipython",
    "version": 3
   },
   "file_extension": ".py",
   "mimetype": "text/x-python",
   "name": "python",
   "nbconvert_exporter": "python",
   "pygments_lexer": "ipython3",
   "version": "3.12.11"
  }
 },
 "nbformat": 4,
 "nbformat_minor": 5
}
